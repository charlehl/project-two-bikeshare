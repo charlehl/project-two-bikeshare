{
 "cells": [
  {
   "cell_type": "code",
   "execution_count": 1,
   "metadata": {},
   "outputs": [],
   "source": [
    "import pandas as pd\n",
    "import pymongo\n",
    "import requests\n",
    "import json"
   ]
  },
  {
   "cell_type": "code",
   "execution_count": 2,
   "metadata": {},
   "outputs": [],
   "source": [
    "bike_data_csv = \"data/metro-bike-share-trips-2018-q3.csv\""
   ]
  },
  {
   "cell_type": "code",
   "execution_count": 3,
   "metadata": {},
   "outputs": [],
   "source": [
    "bike_data_df = pd.read_csv(bike_data_csv)"
   ]
  },
  {
   "cell_type": "code",
   "execution_count": null,
   "metadata": {},
   "outputs": [],
   "source": [
    "bike_data_df.head()"
   ]
  },
  {
   "cell_type": "code",
   "execution_count": 5,
   "metadata": {},
   "outputs": [],
   "source": [
    "bike_data_df = bike_data_df.dropna()"
   ]
  },
  {
   "cell_type": "code",
   "execution_count": 6,
   "metadata": {},
   "outputs": [
    {
     "data": {
      "text/html": [
       "<div>\n",
       "<style scoped>\n",
       "    .dataframe tbody tr th:only-of-type {\n",
       "        vertical-align: middle;\n",
       "    }\n",
       "\n",
       "    .dataframe tbody tr th {\n",
       "        vertical-align: top;\n",
       "    }\n",
       "\n",
       "    .dataframe thead th {\n",
       "        text-align: right;\n",
       "    }\n",
       "</style>\n",
       "<table border=\"1\" class=\"dataframe\">\n",
       "  <thead>\n",
       "    <tr style=\"text-align: right;\">\n",
       "      <th></th>\n",
       "      <th>trip_id</th>\n",
       "      <th>duration</th>\n",
       "      <th>start_station</th>\n",
       "      <th>start_lat</th>\n",
       "      <th>start_lon</th>\n",
       "      <th>end_station</th>\n",
       "      <th>end_lat</th>\n",
       "      <th>end_lon</th>\n",
       "      <th>bike_id</th>\n",
       "      <th>plan_duration</th>\n",
       "    </tr>\n",
       "  </thead>\n",
       "  <tbody>\n",
       "    <tr>\n",
       "      <th>count</th>\n",
       "      <td>9.319900e+04</td>\n",
       "      <td>93199.000000</td>\n",
       "      <td>93199.000000</td>\n",
       "      <td>93199.000000</td>\n",
       "      <td>93199.000000</td>\n",
       "      <td>93199.000000</td>\n",
       "      <td>93199.000000</td>\n",
       "      <td>93199.000000</td>\n",
       "      <td>93199.000000</td>\n",
       "      <td>93199.000000</td>\n",
       "    </tr>\n",
       "    <tr>\n",
       "      <th>mean</th>\n",
       "      <td>1.020450e+08</td>\n",
       "      <td>39.150903</td>\n",
       "      <td>3453.815921</td>\n",
       "      <td>34.031744</td>\n",
       "      <td>-118.297169</td>\n",
       "      <td>3454.848282</td>\n",
       "      <td>34.031997</td>\n",
       "      <td>-118.297607</td>\n",
       "      <td>8329.991781</td>\n",
       "      <td>22.573000</td>\n",
       "    </tr>\n",
       "    <tr>\n",
       "      <th>std</th>\n",
       "      <td>3.391003e+06</td>\n",
       "      <td>106.635812</td>\n",
       "      <td>555.496890</td>\n",
       "      <td>0.064308</td>\n",
       "      <td>0.102349</td>\n",
       "      <td>556.044923</td>\n",
       "      <td>0.063870</td>\n",
       "      <td>0.103344</td>\n",
       "      <td>2889.897390</td>\n",
       "      <td>51.592113</td>\n",
       "    </tr>\n",
       "    <tr>\n",
       "      <th>min</th>\n",
       "      <td>9.485113e+07</td>\n",
       "      <td>1.000000</td>\n",
       "      <td>3005.000000</td>\n",
       "      <td>33.710979</td>\n",
       "      <td>-118.491341</td>\n",
       "      <td>3005.000000</td>\n",
       "      <td>33.710979</td>\n",
       "      <td>-118.491341</td>\n",
       "      <td>4727.000000</td>\n",
       "      <td>1.000000</td>\n",
       "    </tr>\n",
       "    <tr>\n",
       "      <th>25%</th>\n",
       "      <td>9.919732e+07</td>\n",
       "      <td>7.000000</td>\n",
       "      <td>3030.000000</td>\n",
       "      <td>34.014309</td>\n",
       "      <td>-118.282722</td>\n",
       "      <td>3031.000000</td>\n",
       "      <td>34.014309</td>\n",
       "      <td>-118.283409</td>\n",
       "      <td>6087.000000</td>\n",
       "      <td>1.000000</td>\n",
       "    </tr>\n",
       "    <tr>\n",
       "      <th>50%</th>\n",
       "      <td>1.033932e+08</td>\n",
       "      <td>14.000000</td>\n",
       "      <td>3064.000000</td>\n",
       "      <td>34.045422</td>\n",
       "      <td>-118.256187</td>\n",
       "      <td>3064.000000</td>\n",
       "      <td>34.045181</td>\n",
       "      <td>-118.256187</td>\n",
       "      <td>6484.000000</td>\n",
       "      <td>30.000000</td>\n",
       "    </tr>\n",
       "    <tr>\n",
       "      <th>75%</th>\n",
       "      <td>1.048693e+08</td>\n",
       "      <td>33.000000</td>\n",
       "      <td>4204.000000</td>\n",
       "      <td>34.050880</td>\n",
       "      <td>-118.243530</td>\n",
       "      <td>4204.000000</td>\n",
       "      <td>34.049889</td>\n",
       "      <td>-118.243530</td>\n",
       "      <td>12110.000000</td>\n",
       "      <td>30.000000</td>\n",
       "    </tr>\n",
       "    <tr>\n",
       "      <th>max</th>\n",
       "      <td>1.065433e+08</td>\n",
       "      <td>1440.000000</td>\n",
       "      <td>4267.000000</td>\n",
       "      <td>34.165291</td>\n",
       "      <td>-118.116539</td>\n",
       "      <td>4267.000000</td>\n",
       "      <td>34.165291</td>\n",
       "      <td>-118.116539</td>\n",
       "      <td>12456.000000</td>\n",
       "      <td>365.000000</td>\n",
       "    </tr>\n",
       "  </tbody>\n",
       "</table>\n",
       "</div>"
      ],
      "text/plain": [
       "            trip_id      duration  start_station     start_lat     start_lon  \\\n",
       "count  9.319900e+04  93199.000000   93199.000000  93199.000000  93199.000000   \n",
       "mean   1.020450e+08     39.150903    3453.815921     34.031744   -118.297169   \n",
       "std    3.391003e+06    106.635812     555.496890      0.064308      0.102349   \n",
       "min    9.485113e+07      1.000000    3005.000000     33.710979   -118.491341   \n",
       "25%    9.919732e+07      7.000000    3030.000000     34.014309   -118.282722   \n",
       "50%    1.033932e+08     14.000000    3064.000000     34.045422   -118.256187   \n",
       "75%    1.048693e+08     33.000000    4204.000000     34.050880   -118.243530   \n",
       "max    1.065433e+08   1440.000000    4267.000000     34.165291   -118.116539   \n",
       "\n",
       "        end_station       end_lat       end_lon       bike_id  plan_duration  \n",
       "count  93199.000000  93199.000000  93199.000000  93199.000000   93199.000000  \n",
       "mean    3454.848282     34.031997   -118.297607   8329.991781      22.573000  \n",
       "std      556.044923      0.063870      0.103344   2889.897390      51.592113  \n",
       "min     3005.000000     33.710979   -118.491341   4727.000000       1.000000  \n",
       "25%     3031.000000     34.014309   -118.283409   6087.000000       1.000000  \n",
       "50%     3064.000000     34.045181   -118.256187   6484.000000      30.000000  \n",
       "75%     4204.000000     34.049889   -118.243530  12110.000000      30.000000  \n",
       "max     4267.000000     34.165291   -118.116539  12456.000000     365.000000  "
      ]
     },
     "execution_count": 6,
     "metadata": {},
     "output_type": "execute_result"
    }
   ],
   "source": [
    "bike_data_df.describe()"
   ]
  },
  {
   "cell_type": "code",
   "execution_count": 7,
   "metadata": {},
   "outputs": [],
   "source": [
    "items = bike_data_df[:5].to_json(orient='records')"
   ]
  },
  {
   "cell_type": "code",
   "execution_count": 8,
   "metadata": {},
   "outputs": [],
   "source": [
    "# Initialize PyMongo to work with MongoDBs\n",
    "conn = 'mongodb://localhost:27017'\n",
    "client = pymongo.MongoClient(conn)"
   ]
  },
  {
   "cell_type": "code",
   "execution_count": 9,
   "metadata": {},
   "outputs": [],
   "source": [
    "db = client.bike_data_db\n",
    "collection = db.bike_trip"
   ]
  },
  {
   "cell_type": "code",
   "execution_count": 10,
   "metadata": {},
   "outputs": [
    {
     "data": {
      "text/plain": [
       "Collection(Database(MongoClient(host=['localhost:27017'], document_class=dict, tz_aware=False, connect=True), 'bike_data_db'), 'bike_trip')"
      ]
     },
     "execution_count": 10,
     "metadata": {},
     "output_type": "execute_result"
    }
   ],
   "source": [
    "collection"
   ]
  },
  {
   "cell_type": "code",
   "execution_count": 11,
   "metadata": {},
   "outputs": [],
   "source": [
    "items_db = json.loads(items)"
   ]
  },
  {
   "cell_type": "code",
   "execution_count": 16,
   "metadata": {},
   "outputs": [
    {
     "data": {
      "text/plain": [
       "<pymongo.results.InsertManyResult at 0x1bfe5f49188>"
      ]
     },
     "execution_count": 16,
     "metadata": {},
     "output_type": "execute_result"
    }
   ],
   "source": [
    "db.bike_trip.insert_many(items_db)"
   ]
  },
  {
   "cell_type": "code",
   "execution_count": 17,
   "metadata": {},
   "outputs": [
    {
     "data": {
      "text/plain": [
       "5"
      ]
     },
     "execution_count": 17,
     "metadata": {},
     "output_type": "execute_result"
    }
   ],
   "source": [
    "collection.count_documents({})"
   ]
  },
  {
   "cell_type": "code",
   "execution_count": null,
   "metadata": {},
   "outputs": [],
   "source": [
    "collection.find_one()"
   ]
  },
  {
   "cell_type": "code",
   "execution_count": null,
   "metadata": {},
   "outputs": [],
   "source": [
    "oneWayDoc = collection.find({\"trip_route_category\": \"One Way\"})"
   ]
  },
  {
   "cell_type": "code",
   "execution_count": null,
   "metadata": {},
   "outputs": [],
   "source": [
    "for x in oneWayDoc:\n",
    "    print(x)"
   ]
  },
  {
   "cell_type": "code",
   "execution_count": 14,
   "metadata": {},
   "outputs": [],
   "source": [
    "collection.drop()"
   ]
  },
  {
   "cell_type": "code",
   "execution_count": null,
   "metadata": {},
   "outputs": [],
   "source": [
    "mapbox_api_key = \"pk.eyJ1IjoiY2hhcmxlaGwiLCJhIjoiY2pvbHM0NzZyMDZoMDNxczg0bXB5ZjV6ZiJ9.MSwFdl5_aHm9jcbDFjnVvA\""
   ]
  },
  {
   "cell_type": "code",
   "execution_count": null,
   "metadata": {},
   "outputs": [],
   "source": [
    "from mapbox import Directions"
   ]
  },
  {
   "cell_type": "code",
   "execution_count": null,
   "metadata": {},
   "outputs": [],
   "source": [
    "service = Directions(access_token=mapbox_api_key)\n",
    "# The input waypoints are features, typically GeoJSON-like feature dictionaries\n",
    "origin = {\n",
    "    'type': 'Feature',\n",
    "    'properties': {'name': '7th & Flower'},\n",
    "    'geometry': {\n",
    "        'type': 'Point',\n",
    "        'coordinates': [-118.25854, 34.0485]}}\n",
    "destination = {\n",
    "    'type': 'Feature',\n",
    "    'properties': {'name': 'Ports O\\'Call'},\n",
    "    'geometry': {\n",
    "        'type': 'Point',\n",
    "        'coordinates': [-118.27779, 33.73352]}}\n",
    "# The directions() method can be called with a list of features and the desired profile\n",
    "response = service.directions([origin, destination], 'mapbox/cycling')"
   ]
  },
  {
   "cell_type": "code",
   "execution_count": null,
   "metadata": {},
   "outputs": [],
   "source": [
    "response"
   ]
  },
  {
   "cell_type": "code",
   "execution_count": null,
   "metadata": {},
   "outputs": [],
   "source": [
    "json.loads(response.text)"
   ]
  },
  {
   "cell_type": "code",
   "execution_count": null,
   "metadata": {},
   "outputs": [],
   "source": []
  }
 ],
 "metadata": {
  "kernelspec": {
   "display_name": "Python [conda env:PythonData]",
   "language": "python",
   "name": "conda-env-PythonData-py"
  },
  "language_info": {
   "codemirror_mode": {
    "name": "ipython",
    "version": 3
   },
   "file_extension": ".py",
   "mimetype": "text/x-python",
   "name": "python",
   "nbconvert_exporter": "python",
   "pygments_lexer": "ipython3",
   "version": "3.6.5"
  }
 },
 "nbformat": 4,
 "nbformat_minor": 2
}
