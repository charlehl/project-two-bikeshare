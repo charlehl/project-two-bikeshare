{
 "cells": [
  {
   "cell_type": "code",
   "execution_count": 27,
   "metadata": {},
   "outputs": [],
   "source": [
    "import pandas as pd\n",
    "import pymongo\n",
    "import requests\n",
    "import json"
   ]
  },
  {
   "cell_type": "code",
   "execution_count": 2,
   "metadata": {},
   "outputs": [],
   "source": [
    "bike_data_csv = \"data/metro-bike-share-trips-2018-q3.csv\""
   ]
  },
  {
   "cell_type": "code",
   "execution_count": 3,
   "metadata": {},
   "outputs": [],
   "source": [
    "bike_data_df = pd.read_csv(bike_data_csv)"
   ]
  },
  {
   "cell_type": "code",
   "execution_count": 6,
   "metadata": {},
   "outputs": [
    {
     "data": {
      "text/html": [
       "<div>\n",
       "<style scoped>\n",
       "    .dataframe tbody tr th:only-of-type {\n",
       "        vertical-align: middle;\n",
       "    }\n",
       "\n",
       "    .dataframe tbody tr th {\n",
       "        vertical-align: top;\n",
       "    }\n",
       "\n",
       "    .dataframe thead th {\n",
       "        text-align: right;\n",
       "    }\n",
       "</style>\n",
       "<table border=\"1\" class=\"dataframe\">\n",
       "  <thead>\n",
       "    <tr style=\"text-align: right;\">\n",
       "      <th></th>\n",
       "      <th>trip_id</th>\n",
       "      <th>duration</th>\n",
       "      <th>start_time</th>\n",
       "      <th>end_time</th>\n",
       "      <th>start_station</th>\n",
       "      <th>start_lat</th>\n",
       "      <th>start_lon</th>\n",
       "      <th>end_station</th>\n",
       "      <th>end_lat</th>\n",
       "      <th>end_lon</th>\n",
       "      <th>bike_id</th>\n",
       "      <th>plan_duration</th>\n",
       "      <th>trip_route_category</th>\n",
       "      <th>passholder_type</th>\n",
       "    </tr>\n",
       "  </thead>\n",
       "  <tbody>\n",
       "    <tr>\n",
       "      <th>0</th>\n",
       "      <td>94851140</td>\n",
       "      <td>8</td>\n",
       "      <td>2018-07-01 00:04:00</td>\n",
       "      <td>2018-07-01 00:12:00</td>\n",
       "      <td>3058</td>\n",
       "      <td>34.035801</td>\n",
       "      <td>-118.233170</td>\n",
       "      <td>3082</td>\n",
       "      <td>34.046520</td>\n",
       "      <td>-118.237411</td>\n",
       "      <td>6279</td>\n",
       "      <td>30</td>\n",
       "      <td>One Way</td>\n",
       "      <td>Monthly Pass</td>\n",
       "    </tr>\n",
       "    <tr>\n",
       "      <th>1</th>\n",
       "      <td>94851141</td>\n",
       "      <td>8</td>\n",
       "      <td>2018-07-01 00:04:00</td>\n",
       "      <td>2018-07-01 00:12:00</td>\n",
       "      <td>3058</td>\n",
       "      <td>34.035801</td>\n",
       "      <td>-118.233170</td>\n",
       "      <td>3082</td>\n",
       "      <td>34.046520</td>\n",
       "      <td>-118.237411</td>\n",
       "      <td>6518</td>\n",
       "      <td>365</td>\n",
       "      <td>One Way</td>\n",
       "      <td>Flex Pass</td>\n",
       "    </tr>\n",
       "    <tr>\n",
       "      <th>2</th>\n",
       "      <td>94851138</td>\n",
       "      <td>15</td>\n",
       "      <td>2018-07-01 00:09:00</td>\n",
       "      <td>2018-07-01 00:24:00</td>\n",
       "      <td>4147</td>\n",
       "      <td>34.145248</td>\n",
       "      <td>-118.150070</td>\n",
       "      <td>4174</td>\n",
       "      <td>34.165291</td>\n",
       "      <td>-118.150970</td>\n",
       "      <td>4823</td>\n",
       "      <td>365</td>\n",
       "      <td>One Way</td>\n",
       "      <td>Monthly Pass</td>\n",
       "    </tr>\n",
       "    <tr>\n",
       "      <th>3</th>\n",
       "      <td>94851137</td>\n",
       "      <td>7</td>\n",
       "      <td>2018-07-01 00:22:00</td>\n",
       "      <td>2018-07-01 00:29:00</td>\n",
       "      <td>4157</td>\n",
       "      <td>34.140999</td>\n",
       "      <td>-118.132088</td>\n",
       "      <td>4162</td>\n",
       "      <td>34.147499</td>\n",
       "      <td>-118.148010</td>\n",
       "      <td>6115</td>\n",
       "      <td>30</td>\n",
       "      <td>One Way</td>\n",
       "      <td>Monthly Pass</td>\n",
       "    </tr>\n",
       "    <tr>\n",
       "      <th>4</th>\n",
       "      <td>94851136</td>\n",
       "      <td>35</td>\n",
       "      <td>2018-07-01 00:23:00</td>\n",
       "      <td>2018-07-01 00:58:00</td>\n",
       "      <td>3013</td>\n",
       "      <td>33.779819</td>\n",
       "      <td>-118.263023</td>\n",
       "      <td>3013</td>\n",
       "      <td>33.779819</td>\n",
       "      <td>-118.263023</td>\n",
       "      <td>12055</td>\n",
       "      <td>1</td>\n",
       "      <td>Round Trip</td>\n",
       "      <td>Walk-up</td>\n",
       "    </tr>\n",
       "  </tbody>\n",
       "</table>\n",
       "</div>"
      ],
      "text/plain": [
       "    trip_id  duration           start_time             end_time  \\\n",
       "0  94851140         8  2018-07-01 00:04:00  2018-07-01 00:12:00   \n",
       "1  94851141         8  2018-07-01 00:04:00  2018-07-01 00:12:00   \n",
       "2  94851138        15  2018-07-01 00:09:00  2018-07-01 00:24:00   \n",
       "3  94851137         7  2018-07-01 00:22:00  2018-07-01 00:29:00   \n",
       "4  94851136        35  2018-07-01 00:23:00  2018-07-01 00:58:00   \n",
       "\n",
       "   start_station  start_lat   start_lon  end_station    end_lat     end_lon  \\\n",
       "0           3058  34.035801 -118.233170         3082  34.046520 -118.237411   \n",
       "1           3058  34.035801 -118.233170         3082  34.046520 -118.237411   \n",
       "2           4147  34.145248 -118.150070         4174  34.165291 -118.150970   \n",
       "3           4157  34.140999 -118.132088         4162  34.147499 -118.148010   \n",
       "4           3013  33.779819 -118.263023         3013  33.779819 -118.263023   \n",
       "\n",
       "   bike_id  plan_duration trip_route_category passholder_type  \n",
       "0     6279             30             One Way    Monthly Pass  \n",
       "1     6518            365             One Way       Flex Pass  \n",
       "2     4823            365             One Way    Monthly Pass  \n",
       "3     6115             30             One Way    Monthly Pass  \n",
       "4    12055              1          Round Trip         Walk-up  "
      ]
     },
     "execution_count": 6,
     "metadata": {},
     "output_type": "execute_result"
    }
   ],
   "source": [
    "bike_data_df.head()"
   ]
  },
  {
   "cell_type": "code",
   "execution_count": 14,
   "metadata": {},
   "outputs": [],
   "source": [
    "items = bike_data_df[:5].to_json(orient='records')"
   ]
  },
  {
   "cell_type": "code",
   "execution_count": 19,
   "metadata": {},
   "outputs": [],
   "source": [
    "# Initialize PyMongo to work with MongoDBs\n",
    "conn = 'mongodb://localhost:27017'\n",
    "client = pymongo.MongoClient(conn)"
   ]
  },
  {
   "cell_type": "code",
   "execution_count": 20,
   "metadata": {},
   "outputs": [],
   "source": [
    "db = client.bike_data_db\n",
    "collection = db.bike_trip"
   ]
  },
  {
   "cell_type": "code",
   "execution_count": 21,
   "metadata": {},
   "outputs": [
    {
     "data": {
      "text/plain": [
       "Collection(Database(MongoClient(host=['localhost:27017'], document_class=dict, tz_aware=False, connect=True), 'bike_data_db'), 'bike_trip')"
      ]
     },
     "execution_count": 21,
     "metadata": {},
     "output_type": "execute_result"
    }
   ],
   "source": [
    "collection"
   ]
  },
  {
   "cell_type": "code",
   "execution_count": 28,
   "metadata": {},
   "outputs": [],
   "source": [
    "items_db = json.loads(items)"
   ]
  },
  {
   "cell_type": "code",
   "execution_count": 38,
   "metadata": {},
   "outputs": [
    {
     "data": {
      "text/plain": [
       "<pymongo.results.InsertManyResult at 0x277cce04948>"
      ]
     },
     "execution_count": 38,
     "metadata": {},
     "output_type": "execute_result"
    }
   ],
   "source": [
    "db.bike_trip.insert_many(items_db)"
   ]
  },
  {
   "cell_type": "code",
   "execution_count": 39,
   "metadata": {},
   "outputs": [
    {
     "data": {
      "text/plain": [
       "5"
      ]
     },
     "execution_count": 39,
     "metadata": {},
     "output_type": "execute_result"
    }
   ],
   "source": [
    "collection.count_documents({})"
   ]
  },
  {
   "cell_type": "code",
   "execution_count": 32,
   "metadata": {},
   "outputs": [
    {
     "data": {
      "text/plain": [
       "{'_id': ObjectId('5bf72c8d8a95a662949378f7'),\n",
       " 'trip_id': 94851140,\n",
       " 'duration': 8,\n",
       " 'start_time': '2018-07-01 00:04:00',\n",
       " 'end_time': '2018-07-01 00:12:00',\n",
       " 'start_station': 3058,\n",
       " 'start_lat': 34.035801,\n",
       " 'start_lon': -118.23317,\n",
       " 'end_station': 3082,\n",
       " 'end_lat': 34.04652,\n",
       " 'end_lon': -118.237411,\n",
       " 'bike_id': 6279,\n",
       " 'plan_duration': 30,\n",
       " 'trip_route_category': 'One Way',\n",
       " 'passholder_type': 'Monthly Pass'}"
      ]
     },
     "execution_count": 32,
     "metadata": {},
     "output_type": "execute_result"
    }
   ],
   "source": [
    "collection.find_one()"
   ]
  },
  {
   "cell_type": "code",
   "execution_count": 34,
   "metadata": {},
   "outputs": [],
   "source": [
    "oneWayDoc = collection.find({\"trip_route_category\": \"One Way\"})"
   ]
  },
  {
   "cell_type": "code",
   "execution_count": 35,
   "metadata": {},
   "outputs": [
    {
     "name": "stdout",
     "output_type": "stream",
     "text": [
      "{'_id': ObjectId('5bf72c8d8a95a662949378f7'), 'trip_id': 94851140, 'duration': 8, 'start_time': '2018-07-01 00:04:00', 'end_time': '2018-07-01 00:12:00', 'start_station': 3058, 'start_lat': 34.035801, 'start_lon': -118.23317, 'end_station': 3082, 'end_lat': 34.04652, 'end_lon': -118.237411, 'bike_id': 6279, 'plan_duration': 30, 'trip_route_category': 'One Way', 'passholder_type': 'Monthly Pass'}\n",
      "{'_id': ObjectId('5bf72c8d8a95a662949378f8'), 'trip_id': 94851141, 'duration': 8, 'start_time': '2018-07-01 00:04:00', 'end_time': '2018-07-01 00:12:00', 'start_station': 3058, 'start_lat': 34.035801, 'start_lon': -118.23317, 'end_station': 3082, 'end_lat': 34.04652, 'end_lon': -118.237411, 'bike_id': 6518, 'plan_duration': 365, 'trip_route_category': 'One Way', 'passholder_type': 'Flex Pass'}\n",
      "{'_id': ObjectId('5bf72c8d8a95a662949378f9'), 'trip_id': 94851138, 'duration': 15, 'start_time': '2018-07-01 00:09:00', 'end_time': '2018-07-01 00:24:00', 'start_station': 4147, 'start_lat': 34.145248, 'start_lon': -118.15007, 'end_station': 4174, 'end_lat': 34.165291, 'end_lon': -118.15097, 'bike_id': 4823, 'plan_duration': 365, 'trip_route_category': 'One Way', 'passholder_type': 'Monthly Pass'}\n",
      "{'_id': ObjectId('5bf72c8d8a95a662949378fa'), 'trip_id': 94851137, 'duration': 7, 'start_time': '2018-07-01 00:22:00', 'end_time': '2018-07-01 00:29:00', 'start_station': 4157, 'start_lat': 34.140999, 'start_lon': -118.132088, 'end_station': 4162, 'end_lat': 34.147499, 'end_lon': -118.14801, 'bike_id': 6115, 'plan_duration': 30, 'trip_route_category': 'One Way', 'passholder_type': 'Monthly Pass'}\n"
     ]
    }
   ],
   "source": [
    "for x in oneWayDoc:\n",
    "    print(x)"
   ]
  },
  {
   "cell_type": "code",
   "execution_count": 51,
   "metadata": {},
   "outputs": [],
   "source": [
    "#collection.drop()"
   ]
  },
  {
   "cell_type": "code",
   "execution_count": 52,
   "metadata": {},
   "outputs": [],
   "source": [
    "mapbox_api_key = \"pk.eyJ1IjoiY2hhcmxlaGwiLCJhIjoiY2pvbHM0NzZyMDZoMDNxczg0bXB5ZjV6ZiJ9.MSwFdl5_aHm9jcbDFjnVvA\""
   ]
  },
  {
   "cell_type": "code",
   "execution_count": 41,
   "metadata": {},
   "outputs": [],
   "source": [
    "from mapbox import Directions"
   ]
  },
  {
   "cell_type": "code",
   "execution_count": 70,
   "metadata": {},
   "outputs": [],
   "source": [
    "service = Directions(access_token=mapbox_api_key)\n",
    "# The input waypoints are features, typically GeoJSON-like feature dictionaries\n",
    "origin = {\n",
    "    'type': 'Feature',\n",
    "    'properties': {'name': '7th & Flower'},\n",
    "    'geometry': {\n",
    "        'type': 'Point',\n",
    "        'coordinates': [-118.25854, 34.0485]}}\n",
    "destination = {\n",
    "    'type': 'Feature',\n",
    "    'properties': {'name': 'Ports O\\'Call'},\n",
    "    'geometry': {\n",
    "        'type': 'Point',\n",
    "        'coordinates': [-118.27779, 33.73352]}}\n",
    "# The directions() method can be called with a list of features and the desired profile\n",
    "response = service.directions([origin, destination], 'mapbox/cycling')"
   ]
  },
  {
   "cell_type": "code",
   "execution_count": 80,
   "metadata": {},
   "outputs": [
    {
     "data": {
      "text/plain": [
       "<Response [200]>"
      ]
     },
     "execution_count": 80,
     "metadata": {},
     "output_type": "execute_result"
    }
   ],
   "source": [
    "response"
   ]
  },
  {
   "cell_type": "code",
   "execution_count": 78,
   "metadata": {},
   "outputs": [
    {
     "data": {
      "text/plain": [
       "{'routes': [{'geometry': 'ebynExjxpU~W{e@z~@t{@fUo[lyBlwAjzA^Dxx@xh@p@Ppc@bj@KlF|\\\\juAS|OxX~cOk@TdX|{HYjTGDy\\\\|w@G@|Nhc@vDxiCkCBhNfm@VrVaXhaDkVfMk|@|nBq]',\n",
       "   'legs': [{'summary': '',\n",
       "     'weight': 11336.2,\n",
       "     'duration': 10314.8,\n",
       "     'steps': [],\n",
       "     'distance': 41497.8}],\n",
       "   'weight_name': 'cyclability',\n",
       "   'weight': 11336.2,\n",
       "   'duration': 10314.8,\n",
       "   'distance': 41497.8}],\n",
       " 'waypoints': [{'name': 'West 7th Street',\n",
       "   'location': [-118.25853, 34.048511]},\n",
       "  {'name': 'Nagoya Way', 'location': [-118.277586, 33.733601]}],\n",
       " 'code': 'Ok',\n",
       " 'uuid': 'cjotjzcjw012u3to08csh7eig'}"
      ]
     },
     "execution_count": 78,
     "metadata": {},
     "output_type": "execute_result"
    }
   ],
   "source": [
    "json.loads(response.text)"
   ]
  },
  {
   "cell_type": "code",
   "execution_count": null,
   "metadata": {},
   "outputs": [],
   "source": []
  }
 ],
 "metadata": {
  "kernelspec": {
   "display_name": "Python 3",
   "language": "python",
   "name": "python3"
  },
  "language_info": {
   "codemirror_mode": {
    "name": "ipython",
    "version": 3
   },
   "file_extension": ".py",
   "mimetype": "text/x-python",
   "name": "python",
   "nbconvert_exporter": "python",
   "pygments_lexer": "ipython3",
   "version": "3.6.5"
  }
 },
 "nbformat": 4,
 "nbformat_minor": 2
}
