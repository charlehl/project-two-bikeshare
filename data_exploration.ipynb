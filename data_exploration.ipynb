{
 "cells": [
  {
   "cell_type": "code",
   "execution_count": 52,
   "metadata": {},
   "outputs": [],
   "source": [
    "import pandas as  pd\n",
    "import pymongo\n",
    "import requests\n",
    "import json\n",
    "from datetime import datetime\n",
    "import time\n",
    "import calendar"
   ]
  },
  {
   "cell_type": "code",
   "execution_count": null,
   "metadata": {},
   "outputs": [],
   "source": [
    "bike_data_csv = \"data/metro-bike-share-trips-2018-q3.csv\""
   ]
  },
  {
   "cell_type": "code",
   "execution_count": null,
   "metadata": {},
   "outputs": [],
   "source": [
    "bike_data_df = pd.read_csv(bike_data_csv)"
   ]
  },
  {
   "cell_type": "code",
   "execution_count": null,
   "metadata": {},
   "outputs": [],
   "source": [
    "bike_data_df['weekday'] = bike_data_df.apply(lambda row: calendar.day_name[datetime.strptime(row.start_time, '%Y-%m-%d %H:%M:%S').weekday()] , axis=1)"
   ]
  },
  {
   "cell_type": "code",
   "execution_count": null,
   "metadata": {},
   "outputs": [],
   "source": [
    "bike_data_df['start_day'] = bike_data_df.apply(lambda row: datetime.strptime(row.start_time, '%Y-%m-%d %H:%M:%S').strftime('%Y-%m-%d') , axis=1)"
   ]
  },
  {
   "cell_type": "code",
   "execution_count": null,
   "metadata": {},
   "outputs": [],
   "source": [
    "bike_data_df.head()                           "
   ]
  },
  {
   "cell_type": "code",
   "execution_count": null,
   "metadata": {},
   "outputs": [],
   "source": [
    "bike_data_df['start_time'] = pd.to_datetime(bike_data_df['start_time'], format='%Y-%m-%d %H:%M:%S')\n",
    "bike_data_df['end_time'] = pd.to_datetime(bike_data_df['end_time'], format='%Y-%m-%d %H:%M:%S')  "
   ]
  },
  {
   "cell_type": "code",
   "execution_count": null,
   "metadata": {},
   "outputs": [],
   "source": [
    "#items = bike_data_df[:1000].to_json(orient='records', date_format='iso', date_unit='s')\n",
    "items = bike_data_df[:1000].to_json(orient='records')"
   ]
  },
  {
   "cell_type": "code",
   "execution_count": 53,
   "metadata": {},
   "outputs": [],
   "source": [
    "# Initialize PyMongo to work with MongoDBs\n",
    "conn = 'mongodb://localhost:27017/bike_data_db'\n",
    "client = pymongo.MongoClient(conn)"
   ]
  },
  {
   "cell_type": "code",
   "execution_count": 54,
   "metadata": {},
   "outputs": [],
   "source": [
    "db = client.bike_data_db\n",
    "collection = db.bike_trip"
   ]
  },
  {
   "cell_type": "code",
   "execution_count": 55,
   "metadata": {},
   "outputs": [
    {
     "data": {
      "text/plain": [
       "Collection(Database(MongoClient(host=['localhost:27017'], document_class=dict, tz_aware=False, connect=True), 'bike_data_db'), 'bike_trip')"
      ]
     },
     "execution_count": 55,
     "metadata": {},
     "output_type": "execute_result"
    }
   ],
   "source": [
    "collection"
   ]
  },
  {
   "cell_type": "code",
   "execution_count": null,
   "metadata": {},
   "outputs": [],
   "source": [
    "items_db = json.loads(items)"
   ]
  },
  {
   "cell_type": "code",
   "execution_count": null,
   "metadata": {},
   "outputs": [],
   "source": [
    "collection.drop()"
   ]
  },
  {
   "cell_type": "code",
   "execution_count": null,
   "metadata": {},
   "outputs": [],
   "source": [
    "db.bike_trip.insert_many(items_db)"
   ]
  },
  {
   "cell_type": "code",
   "execution_count": 56,
   "metadata": {},
   "outputs": [
    {
     "data": {
      "text/plain": [
       "93199"
      ]
     },
     "execution_count": 56,
     "metadata": {},
     "output_type": "execute_result"
    }
   ],
   "source": [
    "collection.count_documents({})"
   ]
  },
  {
   "cell_type": "code",
   "execution_count": null,
   "metadata": {},
   "outputs": [],
   "source": [
    "collection.distinct(\"start_day\")"
   ]
  },
  {
   "cell_type": "code",
   "execution_count": 8,
   "metadata": {},
   "outputs": [
    {
     "ename": "TypeError",
     "evalue": "'Collection' object is not callable. If you meant to call the 'find_one' method on a 'Database' object it is failing because no such method exists.",
     "output_type": "error",
     "traceback": [
      "\u001b[1;31m---------------------------------------------------------------------------\u001b[0m",
      "\u001b[1;31mTypeError\u001b[0m                                 Traceback (most recent call last)",
      "\u001b[1;32m<ipython-input-8-bf08801bfe70>\u001b[0m in \u001b[0;36m<module>\u001b[1;34m()\u001b[0m\n\u001b[1;32m----> 1\u001b[1;33m \u001b[0mcollection\u001b[0m\u001b[1;33m.\u001b[0m\u001b[0mfind_one\u001b[0m\u001b[1;33m(\u001b[0m\u001b[1;33m)\u001b[0m\u001b[1;33m\u001b[0m\u001b[0m\n\u001b[0m",
      "\u001b[1;32m~\\Anaconda3\\envs\\PythonData\\lib\\site-packages\\pymongo\\collection.py\u001b[0m in \u001b[0;36m__call__\u001b[1;34m(self, *args, **kwargs)\u001b[0m\n\u001b[0;32m   3315\u001b[0m                             \u001b[1;34m\"object it is failing because no such method \"\u001b[0m\u001b[1;33m\u001b[0m\u001b[0m\n\u001b[0;32m   3316\u001b[0m                             \u001b[1;34m\"exists.\"\u001b[0m \u001b[1;33m%\u001b[0m\u001b[1;33m\u001b[0m\u001b[0m\n\u001b[1;32m-> 3317\u001b[1;33m                             self.__name)\n\u001b[0m\u001b[0;32m   3318\u001b[0m         raise TypeError(\"'Collection' object is not callable. If you meant to \"\n\u001b[0;32m   3319\u001b[0m                         \u001b[1;34m\"call the '%s' method on a 'Collection' object it is \"\u001b[0m\u001b[1;33m\u001b[0m\u001b[0m\n",
      "\u001b[1;31mTypeError\u001b[0m: 'Collection' object is not callable. If you meant to call the 'find_one' method on a 'Database' object it is failing because no such method exists."
     ]
    }
   ],
   "source": [
    "collection.find_one()"
   ]
  },
  {
   "cell_type": "code",
   "execution_count": null,
   "metadata": {},
   "outputs": [],
   "source": [
    "oneWayDoc = collection.find({\"trip_route_category\": \"One Way\"})"
   ]
  },
  {
   "cell_type": "code",
   "execution_count": null,
   "metadata": {},
   "outputs": [],
   "source": [
    "oneWayDoc[0]"
   ]
  },
  {
   "cell_type": "code",
   "execution_count": null,
   "metadata": {},
   "outputs": [],
   "source": [
    "#temp = collection.find({\"start_time\": {'$gte': '2018-07-01T00:00:00Z', '$lt': '2018-07-31T23:59:59Z'}})\n",
    "temp = collection.find({\"start_day\": {'$gte': '2018-07-01', '$lt': '2018-07-31'}})"
   ]
  },
  {
   "cell_type": "code",
   "execution_count": null,
   "metadata": {},
   "outputs": [],
   "source": [
    "list(temp)"
   ]
  },
  {
   "cell_type": "code",
   "execution_count": null,
   "metadata": {},
   "outputs": [],
   "source": [
    "datetime.datetime.utcnow().strftime(\"%Y%m%dT%H%M%S.%fZ\")"
   ]
  },
  {
   "cell_type": "code",
   "execution_count": 93,
   "metadata": {},
   "outputs": [],
   "source": [
    "from flask import jsonify"
   ]
  },
  {
   "cell_type": "code",
   "execution_count": null,
   "metadata": {},
   "outputs": [],
   "source": [
    "bike = list(temp)"
   ]
  },
  {
   "cell_type": "code",
   "execution_count": null,
   "metadata": {},
   "outputs": [],
   "source": [
    "bike"
   ]
  },
  {
   "cell_type": "code",
   "execution_count": null,
   "metadata": {},
   "outputs": [],
   "source": [
    "for x in bike:\n",
    "    x.pop('_id', None)\n",
    "bike[0]"
   ]
  },
  {
   "cell_type": "code",
   "execution_count": null,
   "metadata": {},
   "outputs": [],
   "source": [
    "b_link = \"http://s3-us-west-2.amazonaws.com/boundaries.latimes.com/archive/1.0/boundary-set/la-county-neighborhoods-v5.geojson\""
   ]
  },
  {
   "cell_type": "code",
   "execution_count": 13,
   "metadata": {},
   "outputs": [],
   "source": [
    "collection = db.la_boundary"
   ]
  },
  {
   "cell_type": "code",
   "execution_count": 14,
   "metadata": {},
   "outputs": [
    {
     "data": {
      "text/plain": [
       "<pymongo.cursor.Cursor at 0x2d6095bb7f0>"
      ]
     },
     "execution_count": 14,
     "metadata": {},
     "output_type": "execute_result"
    }
   ],
   "source": [
    "collection.find()"
   ]
  },
  {
   "cell_type": "code",
   "execution_count": null,
   "metadata": {},
   "outputs": [],
   "source": [
    "r = requests.get(b_link)"
   ]
  },
  {
   "cell_type": "code",
   "execution_count": null,
   "metadata": {},
   "outputs": [],
   "source": [
    "r.json()"
   ]
  },
  {
   "cell_type": "code",
   "execution_count": null,
   "metadata": {},
   "outputs": [],
   "source": [
    "collection.insert(r.json())"
   ]
  },
  {
   "cell_type": "code",
   "execution_count": null,
   "metadata": {},
   "outputs": [],
   "source": [
    "temp = collection.find()"
   ]
  },
  {
   "cell_type": "code",
   "execution_count": null,
   "metadata": {},
   "outputs": [],
   "source": [
    "temp = list(temp)"
   ]
  },
  {
   "cell_type": "code",
   "execution_count": null,
   "metadata": {},
   "outputs": [],
   "source": [
    "for i in temp:\n",
    "    i.pop('_id', None)"
   ]
  },
  {
   "cell_type": "code",
   "execution_count": 4,
   "metadata": {},
   "outputs": [],
   "source": [
    "db = client"
   ]
  },
  {
   "cell_type": "code",
   "execution_count": 3,
   "metadata": {},
   "outputs": [],
   "source": [
    "db = client.bike_rental"
   ]
  },
  {
   "cell_type": "code",
   "execution_count": 4,
   "metadata": {},
   "outputs": [
    {
     "data": {
      "text/plain": [
       "Database(MongoClient(host=['localhost:27017'], document_class=dict, tz_aware=False, connect=True), 'bike_rental')"
      ]
     },
     "execution_count": 4,
     "metadata": {},
     "output_type": "execute_result"
    }
   ],
   "source": [
    "db"
   ]
  },
  {
   "cell_type": "code",
   "execution_count": 6,
   "metadata": {},
   "outputs": [],
   "source": [
    "collection = db.bike_rental"
   ]
  },
  {
   "cell_type": "code",
   "execution_count": 7,
   "metadata": {},
   "outputs": [
    {
     "data": {
      "text/plain": [
       "0"
      ]
     },
     "execution_count": 7,
     "metadata": {},
     "output_type": "execute_result"
    }
   ],
   "source": [
    "collection.count_documents({})"
   ]
  },
  {
   "cell_type": "code",
   "execution_count": 9,
   "metadata": {},
   "outputs": [],
   "source": [
    "db = client.bike_data_db\n",
    "\n",
    "bike_trip = db.bike_trip.find()\n",
    "\n",
    "full_dict = []\n",
    "for trip in bike_trip:\n",
    "    full_dict.append(trip)\n",
    "df = pd.DataFrame(full_dict)\n",
    "\n",
    "# use k to filter dataframe based on passholder type\n",
    "# group by day of week and pass info back into d3\n",
    "\n",
    "#pass_type = request.args.get('pass_type')\n",
    "\n",
    "#selection = df.loc[df['passholder_type'] == pass_type, :]    \n",
    "#grouped_df = selection[['weekday','duration']].groupby('weekday').sum()\n",
    "#index_reset = grouped_df.reset_index()\n",
    "#index_reset['weekday'] = pd.Categorical(index_reset['weekday'], categories=['Monday','Tuesday','Wednesday','Thursday','Friday','Saturday', 'Sunday'], ordered=True)\n",
    "#weekday_df = index_reset.sort_values('weekday')\n",
    "\n",
    "\n"
   ]
  },
  {
   "cell_type": "code",
   "execution_count": 13,
   "metadata": {},
   "outputs": [
    {
     "data": {
      "text/html": [
       "<div>\n",
       "<style scoped>\n",
       "    .dataframe tbody tr th:only-of-type {\n",
       "        vertical-align: middle;\n",
       "    }\n",
       "\n",
       "    .dataframe tbody tr th {\n",
       "        vertical-align: top;\n",
       "    }\n",
       "\n",
       "    .dataframe thead th {\n",
       "        text-align: right;\n",
       "    }\n",
       "</style>\n",
       "<table border=\"1\" class=\"dataframe\">\n",
       "  <thead>\n",
       "    <tr style=\"text-align: right;\">\n",
       "      <th></th>\n",
       "      <th></th>\n",
       "      <th>bike_id</th>\n",
       "      <th>duration</th>\n",
       "      <th>end_lat</th>\n",
       "      <th>end_lon</th>\n",
       "      <th>end_station</th>\n",
       "      <th>plan_duration</th>\n",
       "      <th>start_lat</th>\n",
       "      <th>start_lon</th>\n",
       "      <th>start_station</th>\n",
       "      <th>trip_id</th>\n",
       "    </tr>\n",
       "    <tr>\n",
       "      <th>passholder_type</th>\n",
       "      <th>weekday</th>\n",
       "      <th></th>\n",
       "      <th></th>\n",
       "      <th></th>\n",
       "      <th></th>\n",
       "      <th></th>\n",
       "      <th></th>\n",
       "      <th></th>\n",
       "      <th></th>\n",
       "      <th></th>\n",
       "      <th></th>\n",
       "    </tr>\n",
       "  </thead>\n",
       "  <tbody>\n",
       "    <tr>\n",
       "      <th>Flex Pass</th>\n",
       "      <th>Sunday</th>\n",
       "      <td>6518</td>\n",
       "      <td>8</td>\n",
       "      <td>34.046520</td>\n",
       "      <td>-118.237411</td>\n",
       "      <td>3082</td>\n",
       "      <td>365</td>\n",
       "      <td>34.035801</td>\n",
       "      <td>-118.233170</td>\n",
       "      <td>3058</td>\n",
       "      <td>94851141</td>\n",
       "    </tr>\n",
       "    <tr>\n",
       "      <th>Monthly Pass</th>\n",
       "      <th>Sunday</th>\n",
       "      <td>17217</td>\n",
       "      <td>30</td>\n",
       "      <td>102.359310</td>\n",
       "      <td>-354.536391</td>\n",
       "      <td>11418</td>\n",
       "      <td>425</td>\n",
       "      <td>102.322048</td>\n",
       "      <td>-354.515328</td>\n",
       "      <td>11362</td>\n",
       "      <td>284553415</td>\n",
       "    </tr>\n",
       "    <tr>\n",
       "      <th>Walk-up</th>\n",
       "      <th>Sunday</th>\n",
       "      <td>12055</td>\n",
       "      <td>35</td>\n",
       "      <td>33.779819</td>\n",
       "      <td>-118.263023</td>\n",
       "      <td>3013</td>\n",
       "      <td>1</td>\n",
       "      <td>33.779819</td>\n",
       "      <td>-118.263023</td>\n",
       "      <td>3013</td>\n",
       "      <td>94851136</td>\n",
       "    </tr>\n",
       "  </tbody>\n",
       "</table>\n",
       "</div>"
      ],
      "text/plain": [
       "                         bike_id  duration     end_lat     end_lon  \\\n",
       "passholder_type weekday                                              \n",
       "Flex Pass       Sunday      6518         8   34.046520 -118.237411   \n",
       "Monthly Pass    Sunday     17217        30  102.359310 -354.536391   \n",
       "Walk-up         Sunday     12055        35   33.779819 -118.263023   \n",
       "\n",
       "                         end_station  plan_duration   start_lat   start_lon  \\\n",
       "passholder_type weekday                                                       \n",
       "Flex Pass       Sunday          3082            365   34.035801 -118.233170   \n",
       "Monthly Pass    Sunday         11418            425  102.322048 -354.515328   \n",
       "Walk-up         Sunday          3013              1   33.779819 -118.263023   \n",
       "\n",
       "                         start_station    trip_id  \n",
       "passholder_type weekday                            \n",
       "Flex Pass       Sunday            3058   94851141  \n",
       "Monthly Pass    Sunday           11362  284553415  \n",
       "Walk-up         Sunday            3013   94851136  "
      ]
     },
     "execution_count": 13,
     "metadata": {},
     "output_type": "execute_result"
    }
   ],
   "source": [
    "df.head().groupby(['passholder_type', 'weekday']).sum()"
   ]
  },
  {
   "cell_type": "code",
   "execution_count": 49,
   "metadata": {},
   "outputs": [],
   "source": [
    "grouped_df = df[['passholder_type','weekday', 'duration']].groupby(['passholder_type','weekday']).sum()"
   ]
  },
  {
   "cell_type": "code",
   "execution_count": 48,
   "metadata": {},
   "outputs": [
    {
     "data": {
      "text/plain": [
       "[Saturday, Sunday, Friday, Monday, Saturday, ..., Saturday, Sunday, Thursday, Tuesday, Wednesday]\n",
       "Length: 30\n",
       "Categories (7, object): [Monday < Tuesday < Wednesday < Thursday < Friday < Saturday < Sunday]"
      ]
     },
     "execution_count": 48,
     "metadata": {},
     "output_type": "execute_result"
    }
   ],
   "source": [
    "group2_df"
   ]
  },
  {
   "cell_type": "code",
   "execution_count": 50,
   "metadata": {},
   "outputs": [],
   "source": [
    "group2_df = grouped_df.reset_index()"
   ]
  },
  {
   "cell_type": "code",
   "execution_count": 46,
   "metadata": {},
   "outputs": [],
   "source": [
    "#group2_df = pd.Categorical(group2_df['weekday'], categories=['Monday','Tuesday','Wednesday','Thursday','Friday','Saturday', 'Sunday'], ordered=True)"
   ]
  },
  {
   "cell_type": "code",
   "execution_count": 51,
   "metadata": {},
   "outputs": [
    {
     "name": "stdout",
     "output_type": "stream",
     "text": [
      "Annual Pass\n",
      "Annual Pass\n",
      "Flex Pass\n",
      "Flex Pass\n",
      "Flex Pass\n",
      "Flex Pass\n",
      "Flex Pass\n",
      "Flex Pass\n",
      "Flex Pass\n",
      "Monthly Pass\n",
      "Monthly Pass\n",
      "Monthly Pass\n",
      "Monthly Pass\n",
      "Monthly Pass\n",
      "Monthly Pass\n",
      "Monthly Pass\n",
      "One Day Pass\n",
      "One Day Pass\n",
      "One Day Pass\n",
      "One Day Pass\n",
      "One Day Pass\n",
      "One Day Pass\n",
      "One Day Pass\n",
      "Walk-up\n",
      "Walk-up\n",
      "Walk-up\n",
      "Walk-up\n",
      "Walk-up\n",
      "Walk-up\n",
      "Walk-up\n"
     ]
    }
   ],
   "source": [
    "item_db = dict()\n",
    "for index, row in group2_df.iterrows():\n",
    "    print(row['passholder_type'])\n",
    "    key = row['passholder_type']\n",
    "    day = row['weekday']\n",
    "    duration = row['duration']\n",
    "    if (key in item_db):\n",
    "        item_db[key].append({'weekday': day, 'duration': duration})\n",
    "    else:\n",
    "        item_db[key] = [{'weekday': day, 'duration': duration}]"
   ]
  },
  {
   "cell_type": "code",
   "execution_count": 25,
   "metadata": {},
   "outputs": [
    {
     "data": {
      "text/plain": [
       "{'Annual Pass': [{'weekday': 'Saturday', 'duration': 242},\n",
       "  {'weekday': 'Sunday', 'duration': 163}],\n",
       " 'Flex Pass': [{'weekday': 'Friday', 'duration': 5391},\n",
       "  {'weekday': 'Monday', 'duration': 4318},\n",
       "  {'weekday': 'Saturday', 'duration': 4730},\n",
       "  {'weekday': 'Sunday', 'duration': 5049},\n",
       "  {'weekday': 'Thursday', 'duration': 3222},\n",
       "  {'weekday': 'Tuesday', 'duration': 3676},\n",
       "  {'weekday': 'Wednesday', 'duration': 2683}],\n",
       " 'Monthly Pass': [{'weekday': 'Friday', 'duration': 105751},\n",
       "  {'weekday': 'Monday', 'duration': 103022},\n",
       "  {'weekday': 'Saturday', 'duration': 86178},\n",
       "  {'weekday': 'Sunday', 'duration': 90774},\n",
       "  {'weekday': 'Thursday', 'duration': 102579},\n",
       "  {'weekday': 'Tuesday', 'duration': 99726},\n",
       "  {'weekday': 'Wednesday', 'duration': 94277}],\n",
       " 'One Day Pass': [{'weekday': 'Friday', 'duration': 37332},\n",
       "  {'weekday': 'Monday', 'duration': 36064},\n",
       "  {'weekday': 'Saturday', 'duration': 58287},\n",
       "  {'weekday': 'Sunday', 'duration': 83727},\n",
       "  {'weekday': 'Thursday', 'duration': 24697},\n",
       "  {'weekday': 'Tuesday', 'duration': 22184},\n",
       "  {'weekday': 'Wednesday', 'duration': 33385}],\n",
       " 'Walk-up': [{'weekday': 'Friday', 'duration': 356166},\n",
       "  {'weekday': 'Monday', 'duration': 293712},\n",
       "  {'weekday': 'Saturday', 'duration': 545337},\n",
       "  {'weekday': 'Sunday', 'duration': 586569},\n",
       "  {'weekday': 'Thursday', 'duration': 300501},\n",
       "  {'weekday': 'Tuesday', 'duration': 264067},\n",
       "  {'weekday': 'Wednesday', 'duration': 295016}]}"
      ]
     },
     "execution_count": 25,
     "metadata": {},
     "output_type": "execute_result"
    }
   ],
   "source": [
    "item_db"
   ]
  },
  {
   "cell_type": "code",
   "execution_count": 27,
   "metadata": {},
   "outputs": [
    {
     "name": "stderr",
     "output_type": "stream",
     "text": [
      "C:\\Users\\charl\\Anaconda3\\envs\\PythonData\\lib\\site-packages\\ipykernel\\__main__.py:1: DeprecationWarning: insert is deprecated. Use insert_one or insert_many instead.\n",
      "  if __name__ == '__main__':\n"
     ]
    },
    {
     "data": {
      "text/plain": [
       "ObjectId('5c0893488a95a61b086be51e')"
      ]
     },
     "execution_count": 27,
     "metadata": {},
     "output_type": "execute_result"
    }
   ],
   "source": [
    "db.bike_rental.insert(item_db)"
   ]
  },
  {
   "cell_type": "code",
   "execution_count": 28,
   "metadata": {},
   "outputs": [
    {
     "data": {
      "text/plain": [
       "[{'weekday': 'Friday', 'duration': 37332},\n",
       " {'weekday': 'Monday', 'duration': 36064},\n",
       " {'weekday': 'Saturday', 'duration': 58287},\n",
       " {'weekday': 'Sunday', 'duration': 83727},\n",
       " {'weekday': 'Thursday', 'duration': 24697},\n",
       " {'weekday': 'Tuesday', 'duration': 22184},\n",
       " {'weekday': 'Wednesday', 'duration': 33385}]"
      ]
     },
     "execution_count": 28,
     "metadata": {},
     "output_type": "execute_result"
    }
   ],
   "source": [
    "item_db['One Day Pass']"
   ]
  },
  {
   "cell_type": "code",
   "execution_count": 36,
   "metadata": {},
   "outputs": [],
   "source": [
    "bike_trip = db.bike_rental.find()"
   ]
  },
  {
   "cell_type": "code",
   "execution_count": 37,
   "metadata": {},
   "outputs": [],
   "source": [
    "bike_trip = list(bike_trip)"
   ]
  },
  {
   "cell_type": "code",
   "execution_count": 39,
   "metadata": {},
   "outputs": [
    {
     "data": {
      "text/plain": [
       "[{'weekday': 'Saturday', 'duration': 242},\n",
       " {'weekday': 'Sunday', 'duration': 163}]"
      ]
     },
     "execution_count": 39,
     "metadata": {},
     "output_type": "execute_result"
    }
   ],
   "source": [
    "bike_trip[0]['Annual Pass']"
   ]
  },
  {
   "cell_type": "code",
   "execution_count": 57,
   "metadata": {},
   "outputs": [
    {
     "data": {
      "text/plain": [
       "{'_id': ObjectId('5c08b2318a95a636948ed883'),\n",
       " 'trip_id': 94851140,\n",
       " 'duration': 8,\n",
       " 'start_time': '00:04:00',\n",
       " 'end_time': '00:12:00',\n",
       " 'start_station': 3058,\n",
       " 'start_lat': 34.035801,\n",
       " 'start_lon': -118.23317,\n",
       " 'end_station': 3082,\n",
       " 'end_lat': 34.04652,\n",
       " 'end_lon': -118.237411,\n",
       " 'bike_id': 6279,\n",
       " 'plan_duration': 30,\n",
       " 'trip_route_category': 'One Way',\n",
       " 'passholder_type': 'Monthly Pass',\n",
       " 'weekday': 'Sunday',\n",
       " 'start_day': '2018-07-01',\n",
       " 'end_day': '2018-07-01'}"
      ]
     },
     "execution_count": 57,
     "metadata": {},
     "output_type": "execute_result"
    }
   ],
   "source": [
    "collection.find_one()"
   ]
  },
  {
   "cell_type": "code",
   "execution_count": 65,
   "metadata": {},
   "outputs": [],
   "source": [
    "station_id = 3006"
   ]
  },
  {
   "cell_type": "code",
   "execution_count": 66,
   "metadata": {},
   "outputs": [],
   "source": [
    "rental_start = collection.find({'start_station': station_id})"
   ]
  },
  {
   "cell_type": "code",
   "execution_count": 67,
   "metadata": {},
   "outputs": [],
   "source": [
    "rental_start = list(rental_start)"
   ]
  },
  {
   "cell_type": "code",
   "execution_count": 68,
   "metadata": {},
   "outputs": [],
   "source": [
    "df = pd.DataFrame(rental_start)"
   ]
  },
  {
   "cell_type": "code",
   "execution_count": 78,
   "metadata": {},
   "outputs": [
    {
     "data": {
      "text/plain": [
       "<bound method DataFrame.count of                            _id  bike_id  duration     end_day    end_lat  \\\n",
       "0     5c08b2318a95a636948ed951     6568        22  2018-07-01  34.028679   \n",
       "1     5c08b2318a95a636948ed969     6139         4  2018-07-01  34.048038   \n",
       "2     5c08b2318a95a636948eda76     6690         6  2018-07-01  34.047749   \n",
       "3     5c08b2318a95a636948edae4     6428         4  2018-07-01  34.045181   \n",
       "4     5c08b2318a95a636948edb0d     6373         4  2018-07-01  34.044701   \n",
       "5     5c08b2318a95a636948edb12     6233        14  2018-07-01  34.046520   \n",
       "6     5c08b2318a95a636948edb17    12221        17  2018-07-01  34.051102   \n",
       "7     5c08b2318a95a636948edb26     5834        12  2018-07-01  34.037048   \n",
       "8     5c08b2318a95a636948edb4f     6673         5  2018-07-02  34.045181   \n",
       "9     5c08b2318a95a636948edbf7     5881        25  2018-07-02  34.046810   \n",
       "10    5c08b2318a95a636948edbf9     6665        25  2018-07-02  34.046810   \n",
       "11    5c08b2318a95a636948edc34    12110         4  2018-07-02  34.044701   \n",
       "12    5c08b2318a95a636948edc95    12333         3  2018-07-02  34.040600   \n",
       "13    5c08b2318a95a636948edcd4     6065        10  2018-07-02  34.041691   \n",
       "14    5c08b2318a95a636948edce9    12254         3  2018-07-02  34.044701   \n",
       "15    5c08b2318a95a636948edcee     6113        15  2018-07-02  34.045181   \n",
       "16    5c08b2318a95a636948eddb0     6504         8  2018-07-02  34.041691   \n",
       "17    5c08b2318a95a636948eddf2     6294         5  2018-07-02  34.051102   \n",
       "18    5c08b2318a95a636948ede08     6593        19  2018-07-02  34.074829   \n",
       "19    5c08b2318a95a636948edebb     6135         9  2018-07-03  34.039982   \n",
       "20    5c08b2318a95a636948edf2b     6566         8  2018-07-03  34.046822   \n",
       "21    5c08b2318a95a636948edf35     5881         3  2018-07-03  34.044701   \n",
       "22    5c08b2318a95a636948edf53    12241         6  2018-07-03  34.038609   \n",
       "23    5c08b2318a95a636948edf57     6728         1  2018-07-03  34.045540   \n",
       "24    5c08b2318a95a636948edf58     6205         1  2018-07-03  34.045540   \n",
       "25    5c08b2318a95a636948edf5a     6205         1  2018-07-03  34.045540   \n",
       "26    5c08b2318a95a636948edf5d     6205         1  2018-07-03  34.045540   \n",
       "27    5c08b2318a95a636948edf5e    12064         1  2018-07-03  34.045540   \n",
       "28    5c08b2318a95a636948edf61    12064         4  2018-07-03  34.048038   \n",
       "29    5c08b2318a95a636948edf62     6205         3  2018-07-03  34.048038   \n",
       "...                        ...      ...       ...         ...        ...   \n",
       "1548  5c08b2318a95a63694903ead    12367        67  2018-09-29  34.048401   \n",
       "1549  5c08b2318a95a63694903ecd     6667         5  2018-09-30  34.046822   \n",
       "1550  5c08b2318a95a63694903ef7     5749       415  2018-09-30  34.045540   \n",
       "1551  5c08b2318a95a63694903f1e    12351        10  2018-09-30  34.043732   \n",
       "1552  5c08b2318a95a63694903f7d    12330        78  2018-09-30  34.045540   \n",
       "1553  5c08b2318a95a63694903fbd    12109       129  2018-09-30  34.046810   \n",
       "1554  5c08b2318a95a63694903fc5     6626         2  2018-09-30  34.046810   \n",
       "1555  5c08b2318a95a63694904009     6031       131  2018-09-30  34.046810   \n",
       "1556  5c08b2318a95a63694904035     5901        15  2018-09-30  34.044159   \n",
       "1557  5c08b2318a95a63694904038     6140       265  2018-09-30  34.045540   \n",
       "1558  5c08b2318a95a6369490403c    11972       264  2018-09-30  34.045540   \n",
       "1559  5c08b2318a95a6369490403f    12135       263  2018-09-30  34.045540   \n",
       "1560  5c08b2318a95a63694904042     6020       147  2018-09-30  34.046810   \n",
       "1561  5c08b2318a95a63694904081     6164        70  2018-09-30  34.028351   \n",
       "1562  5c08b2318a95a63694904127     6450       256  2018-09-30  34.049889   \n",
       "1563  5c08b2318a95a6369490418b     6319        15  2018-09-30  34.043732   \n",
       "1564  5c08b2318a95a63694904190     5842        24  2018-09-30  34.053200   \n",
       "1565  5c08b2318a95a6369490429b    11991         4  2018-09-30  34.045181   \n",
       "1566  5c08b2318a95a636949042d0     6140        11  2018-09-30  34.048401   \n",
       "1567  5c08b2318a95a636949042dc     6199        34  2018-09-30  34.051102   \n",
       "1568  5c08b2318a95a63694904314     5768        15  2018-09-30  34.050880   \n",
       "1569  5c08b2318a95a63694904382     5813        16  2018-09-30  34.045181   \n",
       "1570  5c08b2318a95a636949043ad     6288         4  2018-09-30  34.042061   \n",
       "1571  5c08b2318a95a636949043c7    12109        23  2018-09-30  34.043732   \n",
       "1572  5c08b2318a95a636949043f2    12091        23  2018-09-30  34.045540   \n",
       "1573  5c08b2318a95a636949043fa     6256       165  2018-09-30  34.039188   \n",
       "1574  5c08b2318a95a636949043fc    11967       163  2018-09-30  34.039188   \n",
       "1575  5c08b2318a95a63694904404     6395        11  2018-09-30  34.035801   \n",
       "1576  5c08b2318a95a63694904405     6114        11  2018-09-30  34.035801   \n",
       "1577  5c08b2318a95a6369490445b     6441        10  2018-09-30  34.048851   \n",
       "\n",
       "         end_lon  end_station  end_time passholder_type  plan_duration  \\\n",
       "0    -118.284111         4254  12:47:00         Walk-up              1   \n",
       "1    -118.253738         3063  12:53:00    Monthly Pass             30   \n",
       "2    -118.243172         3062  18:01:00    Monthly Pass             30   \n",
       "3    -118.250237         3067  19:37:00    Monthly Pass             30   \n",
       "4    -118.252441         3031  20:35:00    Monthly Pass             30   \n",
       "5    -118.237411         3082  21:00:00    Monthly Pass             30   \n",
       "6    -118.264557         3052  21:06:00    One Day Pass              1   \n",
       "7    -118.254868         3010  21:32:00         Walk-up              1   \n",
       "8    -118.250237         3067  03:01:00    Monthly Pass             30   \n",
       "9    -118.256981         3064  10:44:00    One Day Pass              1   \n",
       "10   -118.256981         3064  10:44:00    One Day Pass              1   \n",
       "11   -118.252441         3031  11:57:00    Monthly Pass             30   \n",
       "12   -118.253838         3076  13:49:00         Walk-up              1   \n",
       "13   -118.235352         3048  15:35:00    Monthly Pass             30   \n",
       "14   -118.252441         3031  15:55:00    Monthly Pass             30   \n",
       "15   -118.250237         3067  16:09:00    Monthly Pass             30   \n",
       "16   -118.235352         3048  18:51:00       Flex Pass            365   \n",
       "17   -118.264557         3052  20:02:00    Monthly Pass             30   \n",
       "18   -118.258728         4220  20:34:00    Monthly Pass             30   \n",
       "19   -118.266403         3047  09:09:00    Monthly Pass             30   \n",
       "20   -118.248352         3038  11:44:00    Monthly Pass             30   \n",
       "21   -118.252441         3031  11:54:00    Monthly Pass             30   \n",
       "22   -118.260857         3019  12:39:00         Walk-up              1   \n",
       "23   -118.256668         3006  12:40:00    Monthly Pass             30   \n",
       "24   -118.256668         3006  12:41:00    Monthly Pass             30   \n",
       "25   -118.256668         3006  12:42:00    Monthly Pass             30   \n",
       "26   -118.256668         3006  12:43:00    Monthly Pass             30   \n",
       "27   -118.256668         3006  12:43:00    Monthly Pass            365   \n",
       "28   -118.253738         3063  12:47:00    Monthly Pass            365   \n",
       "29   -118.253738         3063  12:47:00    Monthly Pass             30   \n",
       "...          ...          ...       ...             ...            ...   \n",
       "1548 -118.260948         3035  23:56:00    Monthly Pass             30   \n",
       "1549 -118.248352         3038  00:10:00    Monthly Pass             30   \n",
       "1550 -118.256668         3006  14:26:00    One Day Pass              1   \n",
       "1551 -118.260139         3018  09:07:00         Walk-up              1   \n",
       "1552 -118.256668         3006  11:06:00         Walk-up              1   \n",
       "1553 -118.256981         3064  12:18:00    One Day Pass              1   \n",
       "1554 -118.256981         3064  10:14:00    Monthly Pass             30   \n",
       "1555 -118.256981         3064  12:50:00    One Day Pass              1   \n",
       "1556 -118.251579         3055  11:14:00    Monthly Pass             30   \n",
       "1557 -118.256668         3006  15:24:00         Walk-up              1   \n",
       "1558 -118.256668         3006  15:24:00         Walk-up              1   \n",
       "1559 -118.256668         3006  15:24:00         Walk-up              1   \n",
       "1560 -118.256981         3064  13:30:00         Walk-up              1   \n",
       "1561 -118.288673         4248  12:44:00    One Day Pass              1   \n",
       "1562 -118.255882         3032  17:14:00         Walk-up              1   \n",
       "1563 -118.260139         3018  14:09:00    Monthly Pass             30   \n",
       "1564 -118.250954         3068  14:19:00       Flex Pass            365   \n",
       "1565 -118.250237         3067  15:50:00    Monthly Pass             30   \n",
       "1566 -118.260948         3035  16:20:00    Monthly Pass             30   \n",
       "1567 -118.264557         3052  16:47:00         Walk-up              1   \n",
       "1568 -118.248253         3069  16:54:00         Walk-up              1   \n",
       "1569 -118.250237         3067  17:41:00         Walk-up              1   \n",
       "1570 -118.263382         3034  17:57:00    Monthly Pass             30   \n",
       "1571 -118.260139         3018  18:32:00    Monthly Pass             30   \n",
       "1572 -118.256668         3006  19:06:00         Walk-up              1   \n",
       "1573 -118.232529         3036  21:31:00         Walk-up              1   \n",
       "1574 -118.232529         3036  21:30:00         Walk-up              1   \n",
       "1575 -118.233170         3058  19:11:00         Walk-up              1   \n",
       "1576 -118.233170         3058  19:11:00         Walk-up              1   \n",
       "1577 -118.246422         3029  21:13:00    Monthly Pass             30   \n",
       "\n",
       "       start_day  start_lat   start_lon  start_station start_time    trip_id  \\\n",
       "0     2018-07-01   34.04554 -118.256668           3006   12:25:00   94931091   \n",
       "1     2018-07-01   34.04554 -118.256668           3006   12:49:00   94931072   \n",
       "2     2018-07-01   34.04554 -118.256668           3006   17:55:00   94973457   \n",
       "3     2018-07-01   34.04554 -118.256668           3006   19:33:00   94980688   \n",
       "4     2018-07-01   34.04554 -118.256668           3006   20:31:00   94988025   \n",
       "5     2018-07-01   34.04554 -118.256668           3006   20:46:00   94988022   \n",
       "6     2018-07-01   34.04554 -118.256668           3006   20:49:00   94995453   \n",
       "7     2018-07-01   34.04554 -118.256668           3006   21:20:00   94995436   \n",
       "8     2018-07-02   34.04554 -118.256668           3006   02:56:00   95036164   \n",
       "9     2018-07-02   34.04554 -118.256668           3006   10:19:00   95081791   \n",
       "10    2018-07-02   34.04554 -118.256668           3006   10:19:00   95081794   \n",
       "11    2018-07-02   34.04554 -118.256668           3006   11:53:00   95088517   \n",
       "12    2018-07-02   34.04554 -118.256668           3006   13:46:00   95102210   \n",
       "13    2018-07-02   34.04554 -118.256668           3006   15:25:00   95116117   \n",
       "14    2018-07-02   34.04554 -118.256668           3006   15:52:00   95116099   \n",
       "15    2018-07-02   34.04554 -118.256668           3006   15:54:00   95123182   \n",
       "16    2018-07-02   34.04554 -118.256668           3006   18:43:00   95137455   \n",
       "17    2018-07-02   34.04554 -118.256668           3006   19:57:00   95152148   \n",
       "18    2018-07-02   34.04554 -118.256668           3006   20:15:00   95152120   \n",
       "19    2018-07-03   34.04554 -118.256668           3006   09:00:00   95230753   \n",
       "20    2018-07-03   34.04554 -118.256668           3006   11:36:00   95243929   \n",
       "21    2018-07-03   34.04554 -118.256668           3006   11:51:00   95243905   \n",
       "22    2018-07-03   34.04554 -118.256668           3006   12:33:00   95250752   \n",
       "23    2018-07-03   34.04554 -118.256668           3006   12:39:00   95250736   \n",
       "24    2018-07-03   34.04554 -118.256668           3006   12:40:00   95250732   \n",
       "25    2018-07-03   34.04554 -118.256668           3006   12:41:00   95250726   \n",
       "26    2018-07-03   34.04554 -118.256668           3006   12:42:00   95250716   \n",
       "27    2018-07-03   34.04554 -118.256668           3006   12:42:00   95250717   \n",
       "28    2018-07-03   34.04554 -118.256668           3006   12:43:00   95250712   \n",
       "29    2018-07-03   34.04554 -118.256668           3006   12:44:00   95250711   \n",
       "...          ...        ...         ...            ...        ...        ...   \n",
       "1548  2018-09-29   34.04554 -118.256668           3006   22:49:00  106357396   \n",
       "1549  2018-09-30   34.04554 -118.256668           3006   00:05:00  106358051   \n",
       "1550  2018-09-30   34.04554 -118.256668           3006   07:31:00  106403589   \n",
       "1551  2018-09-30   34.04554 -118.256668           3006   08:57:00  106382108   \n",
       "1552  2018-09-30   34.04554 -118.256668           3006   09:48:00  106403313   \n",
       "1553  2018-09-30   34.04554 -118.256668           3006   10:09:00  106403184   \n",
       "1554  2018-09-30   34.04554 -118.256668           3006   10:12:00  106383095   \n",
       "1555  2018-09-30   34.04554 -118.256668           3006   10:39:00  106403031   \n",
       "1556  2018-09-30   34.04554 -118.256668           3006   10:59:00  106383711   \n",
       "1557  2018-09-30   34.04554 -118.256668           3006   10:59:00  106402914   \n",
       "1558  2018-09-30   34.04554 -118.256668           3006   11:00:00  106402907   \n",
       "1559  2018-09-30   34.04554 -118.256668           3006   11:01:00  106402902   \n",
       "1560  2018-09-30   34.04554 -118.256668           3006   11:03:00  106402891   \n",
       "1561  2018-09-30   34.04554 -118.256668           3006   11:34:00  106385144   \n",
       "1562  2018-09-30   34.04554 -118.256668           3006   12:58:00  106402311   \n",
       "1563  2018-09-30   34.04554 -118.256668           3006   13:54:00  106386207   \n",
       "1564  2018-09-30   34.04554 -118.256668           3006   13:55:00  106386341   \n",
       "1565  2018-09-30   34.04554 -118.256668           3006   15:46:00  106387525   \n",
       "1566  2018-09-30   34.04554 -118.256668           3006   16:09:00  106388139   \n",
       "1567  2018-09-30   34.04554 -118.256668           3006   16:13:00  106388764   \n",
       "1568  2018-09-30   34.04554 -118.256668           3006   16:39:00  106388863   \n",
       "1569  2018-09-30   34.04554 -118.256668           3006   17:25:00  106390351   \n",
       "1570  2018-09-30   34.04554 -118.256668           3006   17:53:00  106390873   \n",
       "1571  2018-09-30   34.04554 -118.256668           3006   18:09:00  106392188   \n",
       "1572  2018-09-30   34.04554 -118.256668           3006   18:43:00  106393612   \n",
       "1573  2018-09-30   34.04554 -118.256668           3006   18:46:00  106399895   \n",
       "1574  2018-09-30   34.04554 -118.256668           3006   18:47:00  106399666   \n",
       "1575  2018-09-30   34.04554 -118.256668           3006   19:00:00  106393816   \n",
       "1576  2018-09-30   34.04554 -118.256668           3006   19:00:00  106393817   \n",
       "1577  2018-09-30   34.04554 -118.256668           3006   21:03:00  106398817   \n",
       "\n",
       "     trip_route_category   weekday  \n",
       "0                One Way    Sunday  \n",
       "1                One Way    Sunday  \n",
       "2                One Way    Sunday  \n",
       "3                One Way    Sunday  \n",
       "4                One Way    Sunday  \n",
       "5                One Way    Sunday  \n",
       "6                One Way    Sunday  \n",
       "7                One Way    Sunday  \n",
       "8                One Way    Monday  \n",
       "9                One Way    Monday  \n",
       "10               One Way    Monday  \n",
       "11               One Way    Monday  \n",
       "12               One Way    Monday  \n",
       "13               One Way    Monday  \n",
       "14               One Way    Monday  \n",
       "15               One Way    Monday  \n",
       "16               One Way    Monday  \n",
       "17               One Way    Monday  \n",
       "18               One Way    Monday  \n",
       "19               One Way   Tuesday  \n",
       "20               One Way   Tuesday  \n",
       "21               One Way   Tuesday  \n",
       "22               One Way   Tuesday  \n",
       "23            Round Trip   Tuesday  \n",
       "24            Round Trip   Tuesday  \n",
       "25            Round Trip   Tuesday  \n",
       "26            Round Trip   Tuesday  \n",
       "27            Round Trip   Tuesday  \n",
       "28               One Way   Tuesday  \n",
       "29               One Way   Tuesday  \n",
       "...                  ...       ...  \n",
       "1548             One Way  Saturday  \n",
       "1549             One Way    Sunday  \n",
       "1550          Round Trip    Sunday  \n",
       "1551             One Way    Sunday  \n",
       "1552          Round Trip    Sunday  \n",
       "1553             One Way    Sunday  \n",
       "1554             One Way    Sunday  \n",
       "1555             One Way    Sunday  \n",
       "1556             One Way    Sunday  \n",
       "1557          Round Trip    Sunday  \n",
       "1558          Round Trip    Sunday  \n",
       "1559          Round Trip    Sunday  \n",
       "1560             One Way    Sunday  \n",
       "1561             One Way    Sunday  \n",
       "1562             One Way    Sunday  \n",
       "1563             One Way    Sunday  \n",
       "1564             One Way    Sunday  \n",
       "1565             One Way    Sunday  \n",
       "1566             One Way    Sunday  \n",
       "1567             One Way    Sunday  \n",
       "1568             One Way    Sunday  \n",
       "1569             One Way    Sunday  \n",
       "1570             One Way    Sunday  \n",
       "1571             One Way    Sunday  \n",
       "1572          Round Trip    Sunday  \n",
       "1573             One Way    Sunday  \n",
       "1574             One Way    Sunday  \n",
       "1575             One Way    Sunday  \n",
       "1576             One Way    Sunday  \n",
       "1577             One Way    Sunday  \n",
       "\n",
       "[1578 rows x 18 columns]>"
      ]
     },
     "execution_count": 78,
     "metadata": {},
     "output_type": "execute_result"
    }
   ],
   "source": [
    "df.count"
   ]
  },
  {
   "cell_type": "code",
   "execution_count": 79,
   "metadata": {},
   "outputs": [],
   "source": [
    "grouped_df = df[['passholder_type','weekday','start_station']].groupby(['passholder_type','weekday']).count()"
   ]
  },
  {
   "cell_type": "code",
   "execution_count": 80,
   "metadata": {},
   "outputs": [],
   "source": [
    "group2_df = grouped_df.reset_index()"
   ]
  },
  {
   "cell_type": "code",
   "execution_count": 81,
   "metadata": {},
   "outputs": [
    {
     "data": {
      "text/html": [
       "<div>\n",
       "<style scoped>\n",
       "    .dataframe tbody tr th:only-of-type {\n",
       "        vertical-align: middle;\n",
       "    }\n",
       "\n",
       "    .dataframe tbody tr th {\n",
       "        vertical-align: top;\n",
       "    }\n",
       "\n",
       "    .dataframe thead th {\n",
       "        text-align: right;\n",
       "    }\n",
       "</style>\n",
       "<table border=\"1\" class=\"dataframe\">\n",
       "  <thead>\n",
       "    <tr style=\"text-align: right;\">\n",
       "      <th></th>\n",
       "      <th>passholder_type</th>\n",
       "      <th>weekday</th>\n",
       "      <th>start_station</th>\n",
       "    </tr>\n",
       "  </thead>\n",
       "  <tbody>\n",
       "    <tr>\n",
       "      <th>0</th>\n",
       "      <td>Flex Pass</td>\n",
       "      <td>Friday</td>\n",
       "      <td>9</td>\n",
       "    </tr>\n",
       "    <tr>\n",
       "      <th>1</th>\n",
       "      <td>Flex Pass</td>\n",
       "      <td>Monday</td>\n",
       "      <td>9</td>\n",
       "    </tr>\n",
       "    <tr>\n",
       "      <th>2</th>\n",
       "      <td>Flex Pass</td>\n",
       "      <td>Saturday</td>\n",
       "      <td>6</td>\n",
       "    </tr>\n",
       "    <tr>\n",
       "      <th>3</th>\n",
       "      <td>Flex Pass</td>\n",
       "      <td>Sunday</td>\n",
       "      <td>11</td>\n",
       "    </tr>\n",
       "    <tr>\n",
       "      <th>4</th>\n",
       "      <td>Flex Pass</td>\n",
       "      <td>Thursday</td>\n",
       "      <td>7</td>\n",
       "    </tr>\n",
       "    <tr>\n",
       "      <th>5</th>\n",
       "      <td>Flex Pass</td>\n",
       "      <td>Tuesday</td>\n",
       "      <td>4</td>\n",
       "    </tr>\n",
       "    <tr>\n",
       "      <th>6</th>\n",
       "      <td>Flex Pass</td>\n",
       "      <td>Wednesday</td>\n",
       "      <td>12</td>\n",
       "    </tr>\n",
       "    <tr>\n",
       "      <th>7</th>\n",
       "      <td>Monthly Pass</td>\n",
       "      <td>Friday</td>\n",
       "      <td>154</td>\n",
       "    </tr>\n",
       "    <tr>\n",
       "      <th>8</th>\n",
       "      <td>Monthly Pass</td>\n",
       "      <td>Monday</td>\n",
       "      <td>129</td>\n",
       "    </tr>\n",
       "    <tr>\n",
       "      <th>9</th>\n",
       "      <td>Monthly Pass</td>\n",
       "      <td>Saturday</td>\n",
       "      <td>136</td>\n",
       "    </tr>\n",
       "  </tbody>\n",
       "</table>\n",
       "</div>"
      ],
      "text/plain": [
       "  passholder_type    weekday  start_station\n",
       "0       Flex Pass     Friday              9\n",
       "1       Flex Pass     Monday              9\n",
       "2       Flex Pass   Saturday              6\n",
       "3       Flex Pass     Sunday             11\n",
       "4       Flex Pass   Thursday              7\n",
       "5       Flex Pass    Tuesday              4\n",
       "6       Flex Pass  Wednesday             12\n",
       "7    Monthly Pass     Friday            154\n",
       "8    Monthly Pass     Monday            129\n",
       "9    Monthly Pass   Saturday            136"
      ]
     },
     "execution_count": 81,
     "metadata": {},
     "output_type": "execute_result"
    }
   ],
   "source": [
    "group2_df.head(10)"
   ]
  },
  {
   "cell_type": "code",
   "execution_count": 82,
   "metadata": {},
   "outputs": [],
   "source": [
    "item_db = dict()\n",
    "for index, row in group2_df.iterrows():\n",
    "    #print(row['passholder_type'])\n",
    "    key = row['passholder_type']\n",
    "    day = row['weekday']\n",
    "    start_station = row['start_station']\n",
    "    if (key in item_db):\n",
    "        item_db[key].append({'weekday': day, 'start_station': start_station})\n",
    "    else:\n",
    "        item_db[key] = [{'weekday': day, 'start_station': start_station}]"
   ]
  },
  {
   "cell_type": "code",
   "execution_count": 83,
   "metadata": {},
   "outputs": [
    {
     "data": {
      "text/plain": [
       "{'Flex Pass': [{'weekday': 'Friday', 'start_station': 9},\n",
       "  {'weekday': 'Monday', 'start_station': 9},\n",
       "  {'weekday': 'Saturday', 'start_station': 6},\n",
       "  {'weekday': 'Sunday', 'start_station': 11},\n",
       "  {'weekday': 'Thursday', 'start_station': 7},\n",
       "  {'weekday': 'Tuesday', 'start_station': 4},\n",
       "  {'weekday': 'Wednesday', 'start_station': 12}],\n",
       " 'Monthly Pass': [{'weekday': 'Friday', 'start_station': 154},\n",
       "  {'weekday': 'Monday', 'start_station': 129},\n",
       "  {'weekday': 'Saturday', 'start_station': 136},\n",
       "  {'weekday': 'Sunday', 'start_station': 112},\n",
       "  {'weekday': 'Thursday', 'start_station': 137},\n",
       "  {'weekday': 'Tuesday', 'start_station': 144},\n",
       "  {'weekday': 'Wednesday', 'start_station': 141}],\n",
       " 'One Day Pass': [{'weekday': 'Friday', 'start_station': 3},\n",
       "  {'weekday': 'Monday', 'start_station': 9},\n",
       "  {'weekday': 'Saturday', 'start_station': 12},\n",
       "  {'weekday': 'Sunday', 'start_station': 16},\n",
       "  {'weekday': 'Thursday', 'start_station': 1},\n",
       "  {'weekday': 'Wednesday', 'start_station': 9}],\n",
       " 'Walk-up': [{'weekday': 'Friday', 'start_station': 77},\n",
       "  {'weekday': 'Monday', 'start_station': 49},\n",
       "  {'weekday': 'Saturday', 'start_station': 70},\n",
       "  {'weekday': 'Sunday', 'start_station': 133},\n",
       "  {'weekday': 'Thursday', 'start_station': 75},\n",
       "  {'weekday': 'Tuesday', 'start_station': 57},\n",
       "  {'weekday': 'Wednesday', 'start_station': 56}]}"
      ]
     },
     "execution_count": 83,
     "metadata": {},
     "output_type": "execute_result"
    }
   ],
   "source": [
    "item_db"
   ]
  },
  {
   "cell_type": "code",
   "execution_count": 84,
   "metadata": {},
   "outputs": [],
   "source": [
    "rental_item = [item_db]"
   ]
  },
  {
   "cell_type": "code",
   "execution_count": 85,
   "metadata": {},
   "outputs": [
    {
     "data": {
      "text/plain": [
       "{'Flex Pass': [{'weekday': 'Friday', 'start_station': 9},\n",
       "  {'weekday': 'Monday', 'start_station': 9},\n",
       "  {'weekday': 'Saturday', 'start_station': 6},\n",
       "  {'weekday': 'Sunday', 'start_station': 11},\n",
       "  {'weekday': 'Thursday', 'start_station': 7},\n",
       "  {'weekday': 'Tuesday', 'start_station': 4},\n",
       "  {'weekday': 'Wednesday', 'start_station': 12}],\n",
       " 'Monthly Pass': [{'weekday': 'Friday', 'start_station': 154},\n",
       "  {'weekday': 'Monday', 'start_station': 129},\n",
       "  {'weekday': 'Saturday', 'start_station': 136},\n",
       "  {'weekday': 'Sunday', 'start_station': 112},\n",
       "  {'weekday': 'Thursday', 'start_station': 137},\n",
       "  {'weekday': 'Tuesday', 'start_station': 144},\n",
       "  {'weekday': 'Wednesday', 'start_station': 141}],\n",
       " 'One Day Pass': [{'weekday': 'Friday', 'start_station': 3},\n",
       "  {'weekday': 'Monday', 'start_station': 9},\n",
       "  {'weekday': 'Saturday', 'start_station': 12},\n",
       "  {'weekday': 'Sunday', 'start_station': 16},\n",
       "  {'weekday': 'Thursday', 'start_station': 1},\n",
       "  {'weekday': 'Wednesday', 'start_station': 9}],\n",
       " 'Walk-up': [{'weekday': 'Friday', 'start_station': 77},\n",
       "  {'weekday': 'Monday', 'start_station': 49},\n",
       "  {'weekday': 'Saturday', 'start_station': 70},\n",
       "  {'weekday': 'Sunday', 'start_station': 133},\n",
       "  {'weekday': 'Thursday', 'start_station': 75},\n",
       "  {'weekday': 'Tuesday', 'start_station': 57},\n",
       "  {'weekday': 'Wednesday', 'start_station': 56}]}"
      ]
     },
     "execution_count": 85,
     "metadata": {},
     "output_type": "execute_result"
    }
   ],
   "source": [
    "rental_item[0]"
   ]
  },
  {
   "cell_type": "code",
   "execution_count": 86,
   "metadata": {},
   "outputs": [],
   "source": [
    "bike_trip = db.bike_trip.find()\n",
    "bike_trip = list(bike_trip)\n",
    "df = pd.DataFrame(bike_trip)\n",
    "grouped_df = df[['passholder_type','trip_id']].groupby('passholder_type').count()\n",
    "pie_df = grouped_df.reset_index()"
   ]
  },
  {
   "cell_type": "code",
   "execution_count": 96,
   "metadata": {},
   "outputs": [
    {
     "data": {
      "text/plain": [
       "'[{\"passholder_type\":\"Annual Pass\",\"trip_id\":10},{\"passholder_type\":\"Flex Pass\",\"trip_id\":1566},{\"passholder_type\":\"Monthly Pass\",\"trip_id\":43102},{\"passholder_type\":\"One Day Pass\",\"trip_id\":4445},{\"passholder_type\":\"Walk-up\",\"trip_id\":44076}]'"
      ]
     },
     "execution_count": 96,
     "metadata": {},
     "output_type": "execute_result"
    }
   ],
   "source": [
    "pie_df.to_json(orient='records')"
   ]
  },
  {
   "cell_type": "code",
   "execution_count": 90,
   "metadata": {},
   "outputs": [],
   "source": [
    "conn = 'mongodb://localhost:27017/bike_data_db'\n",
    "client = pymongo.MongoClient(conn)\n",
    "db = client.bike_data_db"
   ]
  },
  {
   "cell_type": "code",
   "execution_count": 103,
   "metadata": {},
   "outputs": [
    {
     "name": "stderr",
     "output_type": "stream",
     "text": [
      "C:\\Users\\charl\\Anaconda3\\envs\\PythonData\\lib\\site-packages\\ipykernel\\__main__.py:1: DeprecationWarning: insert is deprecated. Use insert_one or insert_many instead.\n",
      "  if __name__ == '__main__':\n"
     ]
    },
    {
     "data": {
      "text/plain": [
       "ObjectId('5c08f8bf8a95a61b086be529')"
      ]
     },
     "execution_count": 103,
     "metadata": {},
     "output_type": "execute_result"
    }
   ],
   "source": [
    "db.bike_rental.insert(json.loads(pie_df.to_json(orient='index')))"
   ]
  },
  {
   "cell_type": "code",
   "execution_count": 102,
   "metadata": {},
   "outputs": [
    {
     "data": {
      "text/plain": [
       "{'0': {'passholder_type': 'Annual Pass', 'trip_id': 10},\n",
       " '1': {'passholder_type': 'Flex Pass', 'trip_id': 1566},\n",
       " '2': {'passholder_type': 'Monthly Pass', 'trip_id': 43102},\n",
       " '3': {'passholder_type': 'One Day Pass', 'trip_id': 4445},\n",
       " '4': {'passholder_type': 'Walk-up', 'trip_id': 44076}}"
      ]
     },
     "execution_count": 102,
     "metadata": {},
     "output_type": "execute_result"
    }
   ],
   "source": [
    "json.loads(pie_df.to_json(orient='index'))"
   ]
  },
  {
   "cell_type": "code",
   "execution_count": 104,
   "metadata": {},
   "outputs": [],
   "source": [
    "items = db.bike_rental.find()"
   ]
  },
  {
   "cell_type": "code",
   "execution_count": 105,
   "metadata": {},
   "outputs": [],
   "source": [
    "items = list(items)"
   ]
  },
  {
   "cell_type": "code",
   "execution_count": 109,
   "metadata": {},
   "outputs": [],
   "source": [
    "\n",
    "if 'Annual Pass' in items[1].keys():\n",
    "    print(\"Here\")\n",
    "\n"
   ]
  },
  {
   "cell_type": "code",
   "execution_count": 118,
   "metadata": {},
   "outputs": [
    {
     "name": "stdout",
     "output_type": "stream",
     "text": [
      "Thank you next\n",
      "dict_keys(['_id', '0', '1', '2', '3', '4'])\n"
     ]
    }
   ],
   "source": [
    "for item in items:\n",
    "    if 'Annual Pass' in item.keys():\n",
    "        print(\"Thank you next\")\n",
    "    else:\n",
    "        print(item.keys())"
   ]
  },
  {
   "cell_type": "code",
   "execution_count": 114,
   "metadata": {},
   "outputs": [
    {
     "data": {
      "text/plain": [
       "{'_id': ObjectId('5c08f8bf8a95a61b086be529'),\n",
       " '0': {'passholder_type': 'Annual Pass', 'trip_id': 10},\n",
       " '1': {'passholder_type': 'Flex Pass', 'trip_id': 1566},\n",
       " '2': {'passholder_type': 'Monthly Pass', 'trip_id': 43102},\n",
       " '3': {'passholder_type': 'One Day Pass', 'trip_id': 4445},\n",
       " '4': {'passholder_type': 'Walk-up', 'trip_id': 44076}}"
      ]
     },
     "execution_count": 114,
     "metadata": {},
     "output_type": "execute_result"
    }
   ],
   "source": [
    "items[1]"
   ]
  },
  {
   "cell_type": "code",
   "execution_count": null,
   "metadata": {},
   "outputs": [],
   "source": []
  }
 ],
 "metadata": {
  "kernelspec": {
   "display_name": "Python [default]",
   "language": "python",
   "name": "python3"
  },
  "language_info": {
   "codemirror_mode": {
    "name": "ipython",
    "version": 3
   },
   "file_extension": ".py",
   "mimetype": "text/x-python",
   "name": "python",
   "nbconvert_exporter": "python",
   "pygments_lexer": "ipython3",
   "version": "3.6.5"
  }
 },
 "nbformat": 4,
 "nbformat_minor": 2
}
