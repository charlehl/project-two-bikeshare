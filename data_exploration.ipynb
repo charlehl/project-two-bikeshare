{
 "cells": [
  {
   "cell_type": "code",
   "execution_count": 105,
   "metadata": {},
   "outputs": [],
   "source": [
    "import pandas as  pd\n",
    "import pymongo\n",
    "import requests\n",
    "import json\n",
    "from datetime import datetime\n",
    "import time\n",
    "import calendar"
   ]
  },
  {
   "cell_type": "code",
   "execution_count": 106,
   "metadata": {},
   "outputs": [],
   "source": [
    "bike_data_csv = \"data/metro-bike-share-trips-2018-q3.csv\""
   ]
  },
  {
   "cell_type": "code",
   "execution_count": 125,
   "metadata": {},
   "outputs": [],
   "source": [
    "bike_data_df = pd.read_csv(bike_data_csv)"
   ]
  },
  {
   "cell_type": "code",
   "execution_count": 112,
   "metadata": {},
   "outputs": [],
   "source": [
    "bike_data_df['weekday'] = bike_data_df.apply(lambda row: calendar.day_name[datetime.strptime(row.start_time, '%Y-%m-%d %H:%M:%S').weekday()] , axis=1)"
   ]
  },
  {
   "cell_type": "code",
   "execution_count": 136,
   "metadata": {},
   "outputs": [],
   "source": [
    "bike_data_df['start_day'] = bike_data_df.apply(lambda row: datetime.strptime(row.start_time, '%Y-%m-%d %H:%M:%S').strftime('%Y-%m-%d') , axis=1)"
   ]
  },
  {
   "cell_type": "code",
   "execution_count": 115,
   "metadata": {},
   "outputs": [
    {
     "data": {
      "text/html": [
       "<div>\n",
       "<style scoped>\n",
       "    .dataframe tbody tr th:only-of-type {\n",
       "        vertical-align: middle;\n",
       "    }\n",
       "\n",
       "    .dataframe tbody tr th {\n",
       "        vertical-align: top;\n",
       "    }\n",
       "\n",
       "    .dataframe thead th {\n",
       "        text-align: right;\n",
       "    }\n",
       "</style>\n",
       "<table border=\"1\" class=\"dataframe\">\n",
       "  <thead>\n",
       "    <tr style=\"text-align: right;\">\n",
       "      <th></th>\n",
       "      <th>trip_id</th>\n",
       "      <th>duration</th>\n",
       "      <th>start_time</th>\n",
       "      <th>end_time</th>\n",
       "      <th>start_station</th>\n",
       "      <th>start_lat</th>\n",
       "      <th>start_lon</th>\n",
       "      <th>end_station</th>\n",
       "      <th>end_lat</th>\n",
       "      <th>end_lon</th>\n",
       "      <th>bike_id</th>\n",
       "      <th>plan_duration</th>\n",
       "      <th>trip_route_category</th>\n",
       "      <th>passholder_type</th>\n",
       "      <th>weekday</th>\n",
       "    </tr>\n",
       "  </thead>\n",
       "  <tbody>\n",
       "    <tr>\n",
       "      <th>0</th>\n",
       "      <td>94851140</td>\n",
       "      <td>8</td>\n",
       "      <td>2018-07-01 00:04:00</td>\n",
       "      <td>2018-07-01 00:12:00</td>\n",
       "      <td>3058</td>\n",
       "      <td>34.035801</td>\n",
       "      <td>-118.233170</td>\n",
       "      <td>3082</td>\n",
       "      <td>34.046520</td>\n",
       "      <td>-118.237411</td>\n",
       "      <td>6279</td>\n",
       "      <td>30</td>\n",
       "      <td>One Way</td>\n",
       "      <td>Monthly Pass</td>\n",
       "      <td>Sunday</td>\n",
       "    </tr>\n",
       "    <tr>\n",
       "      <th>1</th>\n",
       "      <td>94851141</td>\n",
       "      <td>8</td>\n",
       "      <td>2018-07-01 00:04:00</td>\n",
       "      <td>2018-07-01 00:12:00</td>\n",
       "      <td>3058</td>\n",
       "      <td>34.035801</td>\n",
       "      <td>-118.233170</td>\n",
       "      <td>3082</td>\n",
       "      <td>34.046520</td>\n",
       "      <td>-118.237411</td>\n",
       "      <td>6518</td>\n",
       "      <td>365</td>\n",
       "      <td>One Way</td>\n",
       "      <td>Flex Pass</td>\n",
       "      <td>Sunday</td>\n",
       "    </tr>\n",
       "    <tr>\n",
       "      <th>2</th>\n",
       "      <td>94851138</td>\n",
       "      <td>15</td>\n",
       "      <td>2018-07-01 00:09:00</td>\n",
       "      <td>2018-07-01 00:24:00</td>\n",
       "      <td>4147</td>\n",
       "      <td>34.145248</td>\n",
       "      <td>-118.150070</td>\n",
       "      <td>4174</td>\n",
       "      <td>34.165291</td>\n",
       "      <td>-118.150970</td>\n",
       "      <td>4823</td>\n",
       "      <td>365</td>\n",
       "      <td>One Way</td>\n",
       "      <td>Monthly Pass</td>\n",
       "      <td>Sunday</td>\n",
       "    </tr>\n",
       "    <tr>\n",
       "      <th>3</th>\n",
       "      <td>94851137</td>\n",
       "      <td>7</td>\n",
       "      <td>2018-07-01 00:22:00</td>\n",
       "      <td>2018-07-01 00:29:00</td>\n",
       "      <td>4157</td>\n",
       "      <td>34.140999</td>\n",
       "      <td>-118.132088</td>\n",
       "      <td>4162</td>\n",
       "      <td>34.147499</td>\n",
       "      <td>-118.148010</td>\n",
       "      <td>6115</td>\n",
       "      <td>30</td>\n",
       "      <td>One Way</td>\n",
       "      <td>Monthly Pass</td>\n",
       "      <td>Sunday</td>\n",
       "    </tr>\n",
       "    <tr>\n",
       "      <th>4</th>\n",
       "      <td>94851136</td>\n",
       "      <td>35</td>\n",
       "      <td>2018-07-01 00:23:00</td>\n",
       "      <td>2018-07-01 00:58:00</td>\n",
       "      <td>3013</td>\n",
       "      <td>33.779819</td>\n",
       "      <td>-118.263023</td>\n",
       "      <td>3013</td>\n",
       "      <td>33.779819</td>\n",
       "      <td>-118.263023</td>\n",
       "      <td>12055</td>\n",
       "      <td>1</td>\n",
       "      <td>Round Trip</td>\n",
       "      <td>Walk-up</td>\n",
       "      <td>Sunday</td>\n",
       "    </tr>\n",
       "  </tbody>\n",
       "</table>\n",
       "</div>"
      ],
      "text/plain": [
       "    trip_id  duration           start_time             end_time  \\\n",
       "0  94851140         8  2018-07-01 00:04:00  2018-07-01 00:12:00   \n",
       "1  94851141         8  2018-07-01 00:04:00  2018-07-01 00:12:00   \n",
       "2  94851138        15  2018-07-01 00:09:00  2018-07-01 00:24:00   \n",
       "3  94851137         7  2018-07-01 00:22:00  2018-07-01 00:29:00   \n",
       "4  94851136        35  2018-07-01 00:23:00  2018-07-01 00:58:00   \n",
       "\n",
       "   start_station  start_lat   start_lon  end_station    end_lat     end_lon  \\\n",
       "0           3058  34.035801 -118.233170         3082  34.046520 -118.237411   \n",
       "1           3058  34.035801 -118.233170         3082  34.046520 -118.237411   \n",
       "2           4147  34.145248 -118.150070         4174  34.165291 -118.150970   \n",
       "3           4157  34.140999 -118.132088         4162  34.147499 -118.148010   \n",
       "4           3013  33.779819 -118.263023         3013  33.779819 -118.263023   \n",
       "\n",
       "   bike_id  plan_duration trip_route_category passholder_type weekday  \n",
       "0     6279             30             One Way    Monthly Pass  Sunday  \n",
       "1     6518            365             One Way       Flex Pass  Sunday  \n",
       "2     4823            365             One Way    Monthly Pass  Sunday  \n",
       "3     6115             30             One Way    Monthly Pass  Sunday  \n",
       "4    12055              1          Round Trip         Walk-up  Sunday  "
      ]
     },
     "execution_count": 115,
     "metadata": {},
     "output_type": "execute_result"
    }
   ],
   "source": [
    "bike_data_df.head()                           "
   ]
  },
  {
   "cell_type": "code",
   "execution_count": null,
   "metadata": {},
   "outputs": [],
   "source": [
    "bike_data_df['start_time'] = pd.to_datetime(bike_data_df['start_time'], format='%Y-%m-%d %H:%M:%S')\n",
    "bike_data_df['end_time'] = pd.to_datetime(bike_data_df['end_time'], format='%Y-%m-%d %H:%M:%S')  "
   ]
  },
  {
   "cell_type": "code",
   "execution_count": 137,
   "metadata": {},
   "outputs": [],
   "source": [
    "#items = bike_data_df[:1000].to_json(orient='records', date_format='iso', date_unit='s')\n",
    "items = bike_data_df[:1000].to_json(orient='records')"
   ]
  },
  {
   "cell_type": "code",
   "execution_count": 38,
   "metadata": {},
   "outputs": [],
   "source": [
    "# Initialize PyMongo to work with MongoDBs\n",
    "conn = 'mongodb://localhost:27017'\n",
    "client = pymongo.MongoClient(conn)"
   ]
  },
  {
   "cell_type": "code",
   "execution_count": 39,
   "metadata": {},
   "outputs": [],
   "source": [
    "db = client.bike_data_db\n",
    "collection = db.bike_trip"
   ]
  },
  {
   "cell_type": "code",
   "execution_count": 40,
   "metadata": {},
   "outputs": [
    {
     "data": {
      "text/plain": [
       "Collection(Database(MongoClient(host=['localhost:27017'], document_class=dict, tz_aware=False, connect=True), 'bike_data_db'), 'bike_trip')"
      ]
     },
     "execution_count": 40,
     "metadata": {},
     "output_type": "execute_result"
    }
   ],
   "source": [
    "collection"
   ]
  },
  {
   "cell_type": "code",
   "execution_count": 138,
   "metadata": {},
   "outputs": [],
   "source": [
    "items_db = json.loads(items)"
   ]
  },
  {
   "cell_type": "code",
   "execution_count": 139,
   "metadata": {},
   "outputs": [],
   "source": [
    "collection.drop()"
   ]
  },
  {
   "cell_type": "code",
   "execution_count": 140,
   "metadata": {},
   "outputs": [
    {
     "data": {
      "text/plain": [
       "<pymongo.results.InsertManyResult at 0x19fa7de7f48>"
      ]
     },
     "execution_count": 140,
     "metadata": {},
     "output_type": "execute_result"
    }
   ],
   "source": [
    "db.bike_trip.insert_many(items_db)"
   ]
  },
  {
   "cell_type": "code",
   "execution_count": 141,
   "metadata": {},
   "outputs": [
    {
     "data": {
      "text/plain": [
       "1000"
      ]
     },
     "execution_count": 141,
     "metadata": {},
     "output_type": "execute_result"
    }
   ],
   "source": [
    "collection.count_documents({})"
   ]
  },
  {
   "cell_type": "code",
   "execution_count": 142,
   "metadata": {},
   "outputs": [
    {
     "data": {
      "text/plain": [
       "['2018-07-01', '2018-07-02']"
      ]
     },
     "execution_count": 142,
     "metadata": {},
     "output_type": "execute_result"
    }
   ],
   "source": [
    "collection.distinct(\"start_day\")"
   ]
  },
  {
   "cell_type": "code",
   "execution_count": 135,
   "metadata": {},
   "outputs": [
    {
     "data": {
      "text/plain": [
       "{'_id': ObjectId('5c0127058a95a6039c6eb870'),\n",
       " 'trip_id': 94851140,\n",
       " 'duration': 8,\n",
       " 'start_time': '2018-07-01 00:04:00',\n",
       " 'end_time': '2018-07-01 00:12:00',\n",
       " 'start_station': 3058,\n",
       " 'start_lat': 34.035801,\n",
       " 'start_lon': -118.23317,\n",
       " 'end_station': 3082,\n",
       " 'end_lat': 34.04652,\n",
       " 'end_lon': -118.237411,\n",
       " 'bike_id': 6279,\n",
       " 'plan_duration': 30,\n",
       " 'trip_route_category': 'One Way',\n",
       " 'passholder_type': 'Monthly Pass'}"
      ]
     },
     "execution_count": 135,
     "metadata": {},
     "output_type": "execute_result"
    }
   ],
   "source": [
    "collection.find_one()"
   ]
  },
  {
   "cell_type": "code",
   "execution_count": 95,
   "metadata": {},
   "outputs": [],
   "source": [
    "oneWayDoc = collection.find({\"trip_route_category\": \"One Way\"})"
   ]
  },
  {
   "cell_type": "code",
   "execution_count": 96,
   "metadata": {},
   "outputs": [
    {
     "data": {
      "text/plain": [
       "{'_id': ObjectId('5c01197c8a95a6039c6eb0a0'),\n",
       " 'trip_id': 94851140,\n",
       " 'duration': 8,\n",
       " 'start_time': '2018-07-01T00:04:00Z',\n",
       " 'end_time': '2018-07-01T00:12:00Z',\n",
       " 'start_station': 3058,\n",
       " 'start_lat': 34.035801,\n",
       " 'start_lon': -118.23317,\n",
       " 'end_station': 3082,\n",
       " 'end_lat': 34.04652,\n",
       " 'end_lon': -118.237411,\n",
       " 'bike_id': 6279,\n",
       " 'plan_duration': 30,\n",
       " 'trip_route_category': 'One Way',\n",
       " 'passholder_type': 'Monthly Pass'}"
      ]
     },
     "execution_count": 96,
     "metadata": {},
     "output_type": "execute_result"
    }
   ],
   "source": [
    "oneWayDoc[0]"
   ]
  },
  {
   "cell_type": "code",
   "execution_count": 123,
   "metadata": {},
   "outputs": [],
   "source": [
    "#temp = collection.find({\"start_time\": {'$gte': '2018-07-01T00:00:00Z', '$lt': '2018-07-31T23:59:59Z'}})\n",
    "temp = collection.find({\"start_time\": {'$gte': '2018-07-01 00:00:00', '$lt': '2018-07-31 23:59:59'}})"
   ]
  },
  {
   "cell_type": "code",
   "execution_count": 124,
   "metadata": {},
   "outputs": [
    {
     "data": {
      "text/plain": [
       "{'_id': ObjectId('5c0120b98a95a6039c6eb48a'),\n",
       " 'trip_id': 94851138,\n",
       " 'duration': 15,\n",
       " 'start_time': '2018-07-01 00:09:00',\n",
       " 'end_time': '2018-07-01 00:24:00',\n",
       " 'start_station': 4147,\n",
       " 'start_lat': 34.145248,\n",
       " 'start_lon': -118.15007,\n",
       " 'end_station': 4174,\n",
       " 'end_lat': 34.165291,\n",
       " 'end_lon': -118.15097,\n",
       " 'bike_id': 4823,\n",
       " 'plan_duration': 365,\n",
       " 'trip_route_category': 'One Way',\n",
       " 'passholder_type': 'Monthly Pass',\n",
       " 'weekday': 'Sunday'}"
      ]
     },
     "execution_count": 124,
     "metadata": {},
     "output_type": "execute_result"
    }
   ],
   "source": [
    "temp[2]"
   ]
  },
  {
   "cell_type": "code",
   "execution_count": 97,
   "metadata": {},
   "outputs": [
    {
     "data": {
      "text/plain": [
       "'20181130T111006.791030Z'"
      ]
     },
     "execution_count": 97,
     "metadata": {},
     "output_type": "execute_result"
    }
   ],
   "source": [
    "datetime.datetime.utcnow().strftime(\"%Y%m%dT%H%M%S.%fZ\")"
   ]
  },
  {
   "cell_type": "code",
   "execution_count": null,
   "metadata": {},
   "outputs": [],
   "source": []
  }
 ],
 "metadata": {
  "kernelspec": {
   "display_name": "Python [conda env:PythonData]",
   "language": "python",
   "name": "conda-env-PythonData-py"
  },
  "language_info": {
   "codemirror_mode": {
    "name": "ipython",
    "version": 3
   },
   "file_extension": ".py",
   "mimetype": "text/x-python",
   "name": "python",
   "nbconvert_exporter": "python",
   "pygments_lexer": "ipython3",
   "version": "3.6.5"
  }
 },
 "nbformat": 4,
 "nbformat_minor": 2
}
