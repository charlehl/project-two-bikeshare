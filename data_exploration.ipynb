{
 "cells": [
  {
   "cell_type": "code",
   "execution_count": 1,
   "metadata": {},
   "outputs": [],
   "source": [
    "import pandas as  pd\n",
    "import pymongo\n",
    "import requests\n",
    "import json\n",
    "from datetime import datetime\n",
    "import time\n",
    "import calendar"
   ]
  },
  {
   "cell_type": "code",
   "execution_count": null,
   "metadata": {},
   "outputs": [],
   "source": [
    "bike_data_csv = \"data/metro-bike-share-trips-2018-q3.csv\""
   ]
  },
  {
   "cell_type": "code",
   "execution_count": null,
   "metadata": {},
   "outputs": [],
   "source": [
    "bike_data_df = pd.read_csv(bike_data_csv)"
   ]
  },
  {
   "cell_type": "code",
   "execution_count": null,
   "metadata": {},
   "outputs": [],
   "source": [
    "bike_data_df['weekday'] = bike_data_df.apply(lambda row: calendar.day_name[datetime.strptime(row.start_time, '%Y-%m-%d %H:%M:%S').weekday()] , axis=1)"
   ]
  },
  {
   "cell_type": "code",
   "execution_count": null,
   "metadata": {},
   "outputs": [],
   "source": [
    "bike_data_df['start_day'] = bike_data_df.apply(lambda row: datetime.strptime(row.start_time, '%Y-%m-%d %H:%M:%S').strftime('%Y-%m-%d') , axis=1)"
   ]
  },
  {
   "cell_type": "code",
   "execution_count": null,
   "metadata": {},
   "outputs": [],
   "source": [
    "bike_data_df.head()                           "
   ]
  },
  {
   "cell_type": "code",
   "execution_count": null,
   "metadata": {},
   "outputs": [],
   "source": [
    "bike_data_df['start_time'] = pd.to_datetime(bike_data_df['start_time'], format='%Y-%m-%d %H:%M:%S')\n",
    "bike_data_df['end_time'] = pd.to_datetime(bike_data_df['end_time'], format='%Y-%m-%d %H:%M:%S')  "
   ]
  },
  {
   "cell_type": "code",
   "execution_count": null,
   "metadata": {},
   "outputs": [],
   "source": [
    "#items = bike_data_df[:1000].to_json(orient='records', date_format='iso', date_unit='s')\n",
    "items = bike_data_df[:1000].to_json(orient='records')"
   ]
  },
  {
   "cell_type": "code",
   "execution_count": 2,
   "metadata": {},
   "outputs": [],
   "source": [
    "# Initialize PyMongo to work with MongoDBs\n",
    "conn = 'mongodb://localhost:27017/bike_data_db'\n",
    "client = pymongo.MongoClient(conn)"
   ]
  },
  {
   "cell_type": "code",
   "execution_count": 10,
   "metadata": {},
   "outputs": [],
   "source": [
    "db = client.bike_data_db\n",
    "collection = db.bike_trip"
   ]
  },
  {
   "cell_type": "code",
   "execution_count": 11,
   "metadata": {},
   "outputs": [
    {
     "data": {
      "text/plain": [
       "Collection(Database(MongoClient(host=['localhost:27017'], document_class=dict, tz_aware=False, connect=True), 'bike_data_db'), 'bike_trip')"
      ]
     },
     "execution_count": 11,
     "metadata": {},
     "output_type": "execute_result"
    }
   ],
   "source": [
    "collection"
   ]
  },
  {
   "cell_type": "code",
   "execution_count": null,
   "metadata": {},
   "outputs": [],
   "source": [
    "items_db = json.loads(items)"
   ]
  },
  {
   "cell_type": "code",
   "execution_count": null,
   "metadata": {},
   "outputs": [],
   "source": [
    "collection.drop()"
   ]
  },
  {
   "cell_type": "code",
   "execution_count": null,
   "metadata": {},
   "outputs": [],
   "source": [
    "db.bike_trip.insert_many(items_db)"
   ]
  },
  {
   "cell_type": "code",
   "execution_count": 12,
   "metadata": {},
   "outputs": [
    {
     "data": {
      "text/plain": [
       "93199"
      ]
     },
     "execution_count": 12,
     "metadata": {},
     "output_type": "execute_result"
    }
   ],
   "source": [
    "collection.count_documents({})"
   ]
  },
  {
   "cell_type": "code",
   "execution_count": null,
   "metadata": {},
   "outputs": [],
   "source": [
    "collection.distinct(\"start_day\")"
   ]
  },
  {
   "cell_type": "code",
   "execution_count": 8,
   "metadata": {},
   "outputs": [
    {
     "ename": "TypeError",
     "evalue": "'Collection' object is not callable. If you meant to call the 'find_one' method on a 'Database' object it is failing because no such method exists.",
     "output_type": "error",
     "traceback": [
      "\u001b[1;31m---------------------------------------------------------------------------\u001b[0m",
      "\u001b[1;31mTypeError\u001b[0m                                 Traceback (most recent call last)",
      "\u001b[1;32m<ipython-input-8-bf08801bfe70>\u001b[0m in \u001b[0;36m<module>\u001b[1;34m()\u001b[0m\n\u001b[1;32m----> 1\u001b[1;33m \u001b[0mcollection\u001b[0m\u001b[1;33m.\u001b[0m\u001b[0mfind_one\u001b[0m\u001b[1;33m(\u001b[0m\u001b[1;33m)\u001b[0m\u001b[1;33m\u001b[0m\u001b[0m\n\u001b[0m",
      "\u001b[1;32m~\\Anaconda3\\envs\\PythonData\\lib\\site-packages\\pymongo\\collection.py\u001b[0m in \u001b[0;36m__call__\u001b[1;34m(self, *args, **kwargs)\u001b[0m\n\u001b[0;32m   3315\u001b[0m                             \u001b[1;34m\"object it is failing because no such method \"\u001b[0m\u001b[1;33m\u001b[0m\u001b[0m\n\u001b[0;32m   3316\u001b[0m                             \u001b[1;34m\"exists.\"\u001b[0m \u001b[1;33m%\u001b[0m\u001b[1;33m\u001b[0m\u001b[0m\n\u001b[1;32m-> 3317\u001b[1;33m                             self.__name)\n\u001b[0m\u001b[0;32m   3318\u001b[0m         raise TypeError(\"'Collection' object is not callable. If you meant to \"\n\u001b[0;32m   3319\u001b[0m                         \u001b[1;34m\"call the '%s' method on a 'Collection' object it is \"\u001b[0m\u001b[1;33m\u001b[0m\u001b[0m\n",
      "\u001b[1;31mTypeError\u001b[0m: 'Collection' object is not callable. If you meant to call the 'find_one' method on a 'Database' object it is failing because no such method exists."
     ]
    }
   ],
   "source": [
    "collection.find_one()"
   ]
  },
  {
   "cell_type": "code",
   "execution_count": null,
   "metadata": {},
   "outputs": [],
   "source": [
    "oneWayDoc = collection.find({\"trip_route_category\": \"One Way\"})"
   ]
  },
  {
   "cell_type": "code",
   "execution_count": null,
   "metadata": {},
   "outputs": [],
   "source": [
    "oneWayDoc[0]"
   ]
  },
  {
   "cell_type": "code",
   "execution_count": null,
   "metadata": {},
   "outputs": [],
   "source": [
    "#temp = collection.find({\"start_time\": {'$gte': '2018-07-01T00:00:00Z', '$lt': '2018-07-31T23:59:59Z'}})\n",
    "temp = collection.find({\"start_day\": {'$gte': '2018-07-01', '$lt': '2018-07-31'}})"
   ]
  },
  {
   "cell_type": "code",
   "execution_count": null,
   "metadata": {},
   "outputs": [],
   "source": [
    "list(temp)"
   ]
  },
  {
   "cell_type": "code",
   "execution_count": null,
   "metadata": {},
   "outputs": [],
   "source": [
    "datetime.datetime.utcnow().strftime(\"%Y%m%dT%H%M%S.%fZ\")"
   ]
  },
  {
   "cell_type": "code",
   "execution_count": null,
   "metadata": {},
   "outputs": [],
   "source": [
    "from flask import jsonify"
   ]
  },
  {
   "cell_type": "code",
   "execution_count": null,
   "metadata": {},
   "outputs": [],
   "source": [
    "bike = list(temp)"
   ]
  },
  {
   "cell_type": "code",
   "execution_count": null,
   "metadata": {},
   "outputs": [],
   "source": [
    "bike"
   ]
  },
  {
   "cell_type": "code",
   "execution_count": null,
   "metadata": {},
   "outputs": [],
   "source": [
    "for x in bike:\n",
    "    x.pop('_id', None)\n",
    "bike[0]"
   ]
  },
  {
   "cell_type": "code",
   "execution_count": null,
   "metadata": {},
   "outputs": [],
   "source": [
    "b_link = \"http://s3-us-west-2.amazonaws.com/boundaries.latimes.com/archive/1.0/boundary-set/la-county-neighborhoods-v5.geojson\""
   ]
  },
  {
   "cell_type": "code",
   "execution_count": 13,
   "metadata": {},
   "outputs": [],
   "source": [
    "collection = db.la_boundary"
   ]
  },
  {
   "cell_type": "code",
   "execution_count": 14,
   "metadata": {},
   "outputs": [
    {
     "data": {
      "text/plain": [
       "<pymongo.cursor.Cursor at 0x2d6095bb7f0>"
      ]
     },
     "execution_count": 14,
     "metadata": {},
     "output_type": "execute_result"
    }
   ],
   "source": [
    "collection.find()"
   ]
  },
  {
   "cell_type": "code",
   "execution_count": null,
   "metadata": {},
   "outputs": [],
   "source": [
    "r = requests.get(b_link)"
   ]
  },
  {
   "cell_type": "code",
   "execution_count": null,
   "metadata": {},
   "outputs": [],
   "source": [
    "r.json()"
   ]
  },
  {
   "cell_type": "code",
   "execution_count": null,
   "metadata": {},
   "outputs": [],
   "source": [
    "collection.insert(r.json())"
   ]
  },
  {
   "cell_type": "code",
   "execution_count": null,
   "metadata": {},
   "outputs": [],
   "source": [
    "temp = collection.find()"
   ]
  },
  {
   "cell_type": "code",
   "execution_count": null,
   "metadata": {},
   "outputs": [],
   "source": [
    "temp = list(temp)"
   ]
  },
  {
   "cell_type": "code",
   "execution_count": null,
   "metadata": {},
   "outputs": [],
   "source": [
    "for i in temp:\n",
    "    i.pop('_id', None)"
   ]
  },
  {
   "cell_type": "code",
   "execution_count": 4,
   "metadata": {},
   "outputs": [],
   "source": [
    "db = client"
   ]
  },
  {
   "cell_type": "code",
   "execution_count": 3,
   "metadata": {},
   "outputs": [],
   "source": [
    "db = client.bike_rental"
   ]
  },
  {
   "cell_type": "code",
   "execution_count": 4,
   "metadata": {},
   "outputs": [
    {
     "data": {
      "text/plain": [
       "Database(MongoClient(host=['localhost:27017'], document_class=dict, tz_aware=False, connect=True), 'bike_rental')"
      ]
     },
     "execution_count": 4,
     "metadata": {},
     "output_type": "execute_result"
    }
   ],
   "source": [
    "db"
   ]
  },
  {
   "cell_type": "code",
   "execution_count": 6,
   "metadata": {},
   "outputs": [],
   "source": [
    "collection = db.bike_rental"
   ]
  },
  {
   "cell_type": "code",
   "execution_count": 7,
   "metadata": {},
   "outputs": [
    {
     "data": {
      "text/plain": [
       "0"
      ]
     },
     "execution_count": 7,
     "metadata": {},
     "output_type": "execute_result"
    }
   ],
   "source": [
    "collection.count_documents({})"
   ]
  },
  {
   "cell_type": "code",
   "execution_count": 9,
   "metadata": {},
   "outputs": [],
   "source": [
    "db = client.bike_data_db\n",
    "\n",
    "bike_trip = db.bike_trip.find()\n",
    "\n",
    "full_dict = []\n",
    "for trip in bike_trip:\n",
    "    full_dict.append(trip)\n",
    "df = pd.DataFrame(full_dict)\n",
    "\n",
    "# use k to filter dataframe based on passholder type\n",
    "# group by day of week and pass info back into d3\n",
    "\n",
    "#pass_type = request.args.get('pass_type')\n",
    "\n",
    "#selection = df.loc[df['passholder_type'] == pass_type, :]    \n",
    "#grouped_df = selection[['weekday','duration']].groupby('weekday').sum()\n",
    "#index_reset = grouped_df.reset_index()\n",
    "#index_reset['weekday'] = pd.Categorical(index_reset['weekday'], categories=['Monday','Tuesday','Wednesday','Thursday','Friday','Saturday', 'Sunday'], ordered=True)\n",
    "#weekday_df = index_reset.sort_values('weekday')\n",
    "\n",
    "\n"
   ]
  },
  {
   "cell_type": "code",
   "execution_count": 13,
   "metadata": {},
   "outputs": [
    {
     "data": {
      "text/html": [
       "<div>\n",
       "<style scoped>\n",
       "    .dataframe tbody tr th:only-of-type {\n",
       "        vertical-align: middle;\n",
       "    }\n",
       "\n",
       "    .dataframe tbody tr th {\n",
       "        vertical-align: top;\n",
       "    }\n",
       "\n",
       "    .dataframe thead th {\n",
       "        text-align: right;\n",
       "    }\n",
       "</style>\n",
       "<table border=\"1\" class=\"dataframe\">\n",
       "  <thead>\n",
       "    <tr style=\"text-align: right;\">\n",
       "      <th></th>\n",
       "      <th></th>\n",
       "      <th>bike_id</th>\n",
       "      <th>duration</th>\n",
       "      <th>end_lat</th>\n",
       "      <th>end_lon</th>\n",
       "      <th>end_station</th>\n",
       "      <th>plan_duration</th>\n",
       "      <th>start_lat</th>\n",
       "      <th>start_lon</th>\n",
       "      <th>start_station</th>\n",
       "      <th>trip_id</th>\n",
       "    </tr>\n",
       "    <tr>\n",
       "      <th>passholder_type</th>\n",
       "      <th>weekday</th>\n",
       "      <th></th>\n",
       "      <th></th>\n",
       "      <th></th>\n",
       "      <th></th>\n",
       "      <th></th>\n",
       "      <th></th>\n",
       "      <th></th>\n",
       "      <th></th>\n",
       "      <th></th>\n",
       "      <th></th>\n",
       "    </tr>\n",
       "  </thead>\n",
       "  <tbody>\n",
       "    <tr>\n",
       "      <th>Flex Pass</th>\n",
       "      <th>Sunday</th>\n",
       "      <td>6518</td>\n",
       "      <td>8</td>\n",
       "      <td>34.046520</td>\n",
       "      <td>-118.237411</td>\n",
       "      <td>3082</td>\n",
       "      <td>365</td>\n",
       "      <td>34.035801</td>\n",
       "      <td>-118.233170</td>\n",
       "      <td>3058</td>\n",
       "      <td>94851141</td>\n",
       "    </tr>\n",
       "    <tr>\n",
       "      <th>Monthly Pass</th>\n",
       "      <th>Sunday</th>\n",
       "      <td>17217</td>\n",
       "      <td>30</td>\n",
       "      <td>102.359310</td>\n",
       "      <td>-354.536391</td>\n",
       "      <td>11418</td>\n",
       "      <td>425</td>\n",
       "      <td>102.322048</td>\n",
       "      <td>-354.515328</td>\n",
       "      <td>11362</td>\n",
       "      <td>284553415</td>\n",
       "    </tr>\n",
       "    <tr>\n",
       "      <th>Walk-up</th>\n",
       "      <th>Sunday</th>\n",
       "      <td>12055</td>\n",
       "      <td>35</td>\n",
       "      <td>33.779819</td>\n",
       "      <td>-118.263023</td>\n",
       "      <td>3013</td>\n",
       "      <td>1</td>\n",
       "      <td>33.779819</td>\n",
       "      <td>-118.263023</td>\n",
       "      <td>3013</td>\n",
       "      <td>94851136</td>\n",
       "    </tr>\n",
       "  </tbody>\n",
       "</table>\n",
       "</div>"
      ],
      "text/plain": [
       "                         bike_id  duration     end_lat     end_lon  \\\n",
       "passholder_type weekday                                              \n",
       "Flex Pass       Sunday      6518         8   34.046520 -118.237411   \n",
       "Monthly Pass    Sunday     17217        30  102.359310 -354.536391   \n",
       "Walk-up         Sunday     12055        35   33.779819 -118.263023   \n",
       "\n",
       "                         end_station  plan_duration   start_lat   start_lon  \\\n",
       "passholder_type weekday                                                       \n",
       "Flex Pass       Sunday          3082            365   34.035801 -118.233170   \n",
       "Monthly Pass    Sunday         11418            425  102.322048 -354.515328   \n",
       "Walk-up         Sunday          3013              1   33.779819 -118.263023   \n",
       "\n",
       "                         start_station    trip_id  \n",
       "passholder_type weekday                            \n",
       "Flex Pass       Sunday            3058   94851141  \n",
       "Monthly Pass    Sunday           11362  284553415  \n",
       "Walk-up         Sunday            3013   94851136  "
      ]
     },
     "execution_count": 13,
     "metadata": {},
     "output_type": "execute_result"
    }
   ],
   "source": [
    "df.head().groupby(['passholder_type', 'weekday']).sum()"
   ]
  },
  {
   "cell_type": "code",
   "execution_count": 49,
   "metadata": {},
   "outputs": [],
   "source": [
    "grouped_df = df[['passholder_type','weekday', 'duration']].groupby(['passholder_type','weekday']).sum()"
   ]
  },
  {
   "cell_type": "code",
   "execution_count": 48,
   "metadata": {},
   "outputs": [
    {
     "data": {
      "text/plain": [
       "[Saturday, Sunday, Friday, Monday, Saturday, ..., Saturday, Sunday, Thursday, Tuesday, Wednesday]\n",
       "Length: 30\n",
       "Categories (7, object): [Monday < Tuesday < Wednesday < Thursday < Friday < Saturday < Sunday]"
      ]
     },
     "execution_count": 48,
     "metadata": {},
     "output_type": "execute_result"
    }
   ],
   "source": [
    "group2_df"
   ]
  },
  {
   "cell_type": "code",
   "execution_count": 50,
   "metadata": {},
   "outputs": [],
   "source": [
    "group2_df = grouped_df.reset_index()"
   ]
  },
  {
   "cell_type": "code",
   "execution_count": 46,
   "metadata": {},
   "outputs": [],
   "source": [
    "#group2_df = pd.Categorical(group2_df['weekday'], categories=['Monday','Tuesday','Wednesday','Thursday','Friday','Saturday', 'Sunday'], ordered=True)"
   ]
  },
  {
   "cell_type": "code",
   "execution_count": 51,
   "metadata": {},
   "outputs": [
    {
     "name": "stdout",
     "output_type": "stream",
     "text": [
      "Annual Pass\n",
      "Annual Pass\n",
      "Flex Pass\n",
      "Flex Pass\n",
      "Flex Pass\n",
      "Flex Pass\n",
      "Flex Pass\n",
      "Flex Pass\n",
      "Flex Pass\n",
      "Monthly Pass\n",
      "Monthly Pass\n",
      "Monthly Pass\n",
      "Monthly Pass\n",
      "Monthly Pass\n",
      "Monthly Pass\n",
      "Monthly Pass\n",
      "One Day Pass\n",
      "One Day Pass\n",
      "One Day Pass\n",
      "One Day Pass\n",
      "One Day Pass\n",
      "One Day Pass\n",
      "One Day Pass\n",
      "Walk-up\n",
      "Walk-up\n",
      "Walk-up\n",
      "Walk-up\n",
      "Walk-up\n",
      "Walk-up\n",
      "Walk-up\n"
     ]
    }
   ],
   "source": [
    "item_db = dict()\n",
    "for index, row in group2_df.iterrows():\n",
    "    print(row['passholder_type'])\n",
    "    key = row['passholder_type']\n",
    "    day = row['weekday']\n",
    "    duration = row['duration']\n",
    "    if (key in item_db):\n",
    "        item_db[key].append({'weekday': day, 'duration': duration})\n",
    "    else:\n",
    "        item_db[key] = [{'weekday': day, 'duration': duration}]"
   ]
  },
  {
   "cell_type": "code",
   "execution_count": 25,
   "metadata": {},
   "outputs": [
    {
     "data": {
      "text/plain": [
       "{'Annual Pass': [{'weekday': 'Saturday', 'duration': 242},\n",
       "  {'weekday': 'Sunday', 'duration': 163}],\n",
       " 'Flex Pass': [{'weekday': 'Friday', 'duration': 5391},\n",
       "  {'weekday': 'Monday', 'duration': 4318},\n",
       "  {'weekday': 'Saturday', 'duration': 4730},\n",
       "  {'weekday': 'Sunday', 'duration': 5049},\n",
       "  {'weekday': 'Thursday', 'duration': 3222},\n",
       "  {'weekday': 'Tuesday', 'duration': 3676},\n",
       "  {'weekday': 'Wednesday', 'duration': 2683}],\n",
       " 'Monthly Pass': [{'weekday': 'Friday', 'duration': 105751},\n",
       "  {'weekday': 'Monday', 'duration': 103022},\n",
       "  {'weekday': 'Saturday', 'duration': 86178},\n",
       "  {'weekday': 'Sunday', 'duration': 90774},\n",
       "  {'weekday': 'Thursday', 'duration': 102579},\n",
       "  {'weekday': 'Tuesday', 'duration': 99726},\n",
       "  {'weekday': 'Wednesday', 'duration': 94277}],\n",
       " 'One Day Pass': [{'weekday': 'Friday', 'duration': 37332},\n",
       "  {'weekday': 'Monday', 'duration': 36064},\n",
       "  {'weekday': 'Saturday', 'duration': 58287},\n",
       "  {'weekday': 'Sunday', 'duration': 83727},\n",
       "  {'weekday': 'Thursday', 'duration': 24697},\n",
       "  {'weekday': 'Tuesday', 'duration': 22184},\n",
       "  {'weekday': 'Wednesday', 'duration': 33385}],\n",
       " 'Walk-up': [{'weekday': 'Friday', 'duration': 356166},\n",
       "  {'weekday': 'Monday', 'duration': 293712},\n",
       "  {'weekday': 'Saturday', 'duration': 545337},\n",
       "  {'weekday': 'Sunday', 'duration': 586569},\n",
       "  {'weekday': 'Thursday', 'duration': 300501},\n",
       "  {'weekday': 'Tuesday', 'duration': 264067},\n",
       "  {'weekday': 'Wednesday', 'duration': 295016}]}"
      ]
     },
     "execution_count": 25,
     "metadata": {},
     "output_type": "execute_result"
    }
   ],
   "source": [
    "item_db"
   ]
  },
  {
   "cell_type": "code",
   "execution_count": 27,
   "metadata": {},
   "outputs": [
    {
     "name": "stderr",
     "output_type": "stream",
     "text": [
      "C:\\Users\\charl\\Anaconda3\\envs\\PythonData\\lib\\site-packages\\ipykernel\\__main__.py:1: DeprecationWarning: insert is deprecated. Use insert_one or insert_many instead.\n",
      "  if __name__ == '__main__':\n"
     ]
    },
    {
     "data": {
      "text/plain": [
       "ObjectId('5c0893488a95a61b086be51e')"
      ]
     },
     "execution_count": 27,
     "metadata": {},
     "output_type": "execute_result"
    }
   ],
   "source": [
    "db.bike_rental.insert(item_db)"
   ]
  },
  {
   "cell_type": "code",
   "execution_count": 28,
   "metadata": {},
   "outputs": [
    {
     "data": {
      "text/plain": [
       "[{'weekday': 'Friday', 'duration': 37332},\n",
       " {'weekday': 'Monday', 'duration': 36064},\n",
       " {'weekday': 'Saturday', 'duration': 58287},\n",
       " {'weekday': 'Sunday', 'duration': 83727},\n",
       " {'weekday': 'Thursday', 'duration': 24697},\n",
       " {'weekday': 'Tuesday', 'duration': 22184},\n",
       " {'weekday': 'Wednesday', 'duration': 33385}]"
      ]
     },
     "execution_count": 28,
     "metadata": {},
     "output_type": "execute_result"
    }
   ],
   "source": [
    "item_db['One Day Pass']"
   ]
  },
  {
   "cell_type": "code",
   "execution_count": 36,
   "metadata": {},
   "outputs": [],
   "source": [
    "bike_trip = db.bike_rental.find()"
   ]
  },
  {
   "cell_type": "code",
   "execution_count": 37,
   "metadata": {},
   "outputs": [],
   "source": [
    "bike_trip = list(bike_trip)"
   ]
  },
  {
   "cell_type": "code",
   "execution_count": 39,
   "metadata": {},
   "outputs": [
    {
     "data": {
      "text/plain": [
       "[{'weekday': 'Saturday', 'duration': 242},\n",
       " {'weekday': 'Sunday', 'duration': 163}]"
      ]
     },
     "execution_count": 39,
     "metadata": {},
     "output_type": "execute_result"
    }
   ],
   "source": [
    "bike_trip[0]['Annual Pass']"
   ]
  },
  {
   "cell_type": "code",
   "execution_count": null,
   "metadata": {},
   "outputs": [],
   "source": []
  }
 ],
 "metadata": {
  "kernelspec": {
   "display_name": "Python [default]",
   "language": "python",
   "name": "python3"
  },
  "language_info": {
   "codemirror_mode": {
    "name": "ipython",
    "version": 3
   },
   "file_extension": ".py",
   "mimetype": "text/x-python",
   "name": "python",
   "nbconvert_exporter": "python",
   "pygments_lexer": "ipython3",
   "version": "3.6.5"
  }
 },
 "nbformat": 4,
 "nbformat_minor": 2
}
