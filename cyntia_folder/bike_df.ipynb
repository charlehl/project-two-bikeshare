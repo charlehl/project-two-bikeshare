{
 "cells": [
  {
   "cell_type": "code",
   "execution_count": 1,
   "metadata": {},
   "outputs": [],
   "source": [
    "import pymongo\n",
    "import pandas as pd \n",
    "from pymongo import MongoClient\n",
    "import pprint\n",
    "from datetime import datetime\n",
    "import time\n",
    "import calendar"
   ]
  },
  {
   "cell_type": "code",
   "execution_count": 2,
   "metadata": {},
   "outputs": [],
   "source": [
    "conn = 'mongodb://localhost:27017'\n",
    "client = MongoClient(conn)"
   ]
  },
  {
   "cell_type": "code",
   "execution_count": 3,
   "metadata": {},
   "outputs": [],
   "source": [
    "db = client.bike_data_db\n",
    "\n",
    "bike_trip = db.bike_trip.find()"
   ]
  },
  {
   "cell_type": "code",
   "execution_count": 4,
   "metadata": {},
   "outputs": [],
   "source": [
    "full_dict = []\n",
    "for trip in bike_trip:\n",
    "    full_dict.append(trip)\n",
    "df = pd.DataFrame(full_dict)\n",
    "    "
   ]
  },
  {
   "cell_type": "code",
   "execution_count": 10,
   "metadata": {},
   "outputs": [
    {
     "data": {
      "text/html": [
       "<div>\n",
       "<style scoped>\n",
       "    .dataframe tbody tr th:only-of-type {\n",
       "        vertical-align: middle;\n",
       "    }\n",
       "\n",
       "    .dataframe tbody tr th {\n",
       "        vertical-align: top;\n",
       "    }\n",
       "\n",
       "    .dataframe thead th {\n",
       "        text-align: right;\n",
       "    }\n",
       "</style>\n",
       "<table border=\"1\" class=\"dataframe\">\n",
       "  <thead>\n",
       "    <tr style=\"text-align: right;\">\n",
       "      <th></th>\n",
       "      <th>_id</th>\n",
       "      <th>bike_id</th>\n",
       "      <th>duration</th>\n",
       "      <th>end_day</th>\n",
       "      <th>end_lat</th>\n",
       "      <th>end_lon</th>\n",
       "      <th>end_station</th>\n",
       "      <th>end_time</th>\n",
       "      <th>passholder_type</th>\n",
       "      <th>plan_duration</th>\n",
       "      <th>start_day</th>\n",
       "      <th>start_lat</th>\n",
       "      <th>start_lon</th>\n",
       "      <th>start_station</th>\n",
       "      <th>start_time</th>\n",
       "      <th>trip_id</th>\n",
       "      <th>trip_route_category</th>\n",
       "      <th>weekday</th>\n",
       "    </tr>\n",
       "  </thead>\n",
       "  <tbody>\n",
       "    <tr>\n",
       "      <th>0</th>\n",
       "      <td>5c016831f596e114f49a3ba6</td>\n",
       "      <td>6279</td>\n",
       "      <td>8</td>\n",
       "      <td>2018-07-01</td>\n",
       "      <td>34.046520</td>\n",
       "      <td>-118.237411</td>\n",
       "      <td>3082</td>\n",
       "      <td>00:12:00</td>\n",
       "      <td>Monthly Pass</td>\n",
       "      <td>30</td>\n",
       "      <td>2018-07-01</td>\n",
       "      <td>34.035801</td>\n",
       "      <td>-118.233170</td>\n",
       "      <td>3058</td>\n",
       "      <td>00:04:00</td>\n",
       "      <td>94851140</td>\n",
       "      <td>One Way</td>\n",
       "      <td>Sunday</td>\n",
       "    </tr>\n",
       "    <tr>\n",
       "      <th>1</th>\n",
       "      <td>5c016831f596e114f49a3ba7</td>\n",
       "      <td>6518</td>\n",
       "      <td>8</td>\n",
       "      <td>2018-07-01</td>\n",
       "      <td>34.046520</td>\n",
       "      <td>-118.237411</td>\n",
       "      <td>3082</td>\n",
       "      <td>00:12:00</td>\n",
       "      <td>Flex Pass</td>\n",
       "      <td>365</td>\n",
       "      <td>2018-07-01</td>\n",
       "      <td>34.035801</td>\n",
       "      <td>-118.233170</td>\n",
       "      <td>3058</td>\n",
       "      <td>00:04:00</td>\n",
       "      <td>94851141</td>\n",
       "      <td>One Way</td>\n",
       "      <td>Sunday</td>\n",
       "    </tr>\n",
       "    <tr>\n",
       "      <th>2</th>\n",
       "      <td>5c016831f596e114f49a3ba8</td>\n",
       "      <td>4823</td>\n",
       "      <td>15</td>\n",
       "      <td>2018-07-01</td>\n",
       "      <td>34.165291</td>\n",
       "      <td>-118.150970</td>\n",
       "      <td>4174</td>\n",
       "      <td>00:24:00</td>\n",
       "      <td>Monthly Pass</td>\n",
       "      <td>365</td>\n",
       "      <td>2018-07-01</td>\n",
       "      <td>34.145248</td>\n",
       "      <td>-118.150070</td>\n",
       "      <td>4147</td>\n",
       "      <td>00:09:00</td>\n",
       "      <td>94851138</td>\n",
       "      <td>One Way</td>\n",
       "      <td>Sunday</td>\n",
       "    </tr>\n",
       "    <tr>\n",
       "      <th>3</th>\n",
       "      <td>5c016831f596e114f49a3ba9</td>\n",
       "      <td>6115</td>\n",
       "      <td>7</td>\n",
       "      <td>2018-07-01</td>\n",
       "      <td>34.147499</td>\n",
       "      <td>-118.148010</td>\n",
       "      <td>4162</td>\n",
       "      <td>00:29:00</td>\n",
       "      <td>Monthly Pass</td>\n",
       "      <td>30</td>\n",
       "      <td>2018-07-01</td>\n",
       "      <td>34.140999</td>\n",
       "      <td>-118.132088</td>\n",
       "      <td>4157</td>\n",
       "      <td>00:22:00</td>\n",
       "      <td>94851137</td>\n",
       "      <td>One Way</td>\n",
       "      <td>Sunday</td>\n",
       "    </tr>\n",
       "    <tr>\n",
       "      <th>4</th>\n",
       "      <td>5c016831f596e114f49a3baa</td>\n",
       "      <td>12055</td>\n",
       "      <td>35</td>\n",
       "      <td>2018-07-01</td>\n",
       "      <td>33.779819</td>\n",
       "      <td>-118.263023</td>\n",
       "      <td>3013</td>\n",
       "      <td>00:58:00</td>\n",
       "      <td>Walk-up</td>\n",
       "      <td>1</td>\n",
       "      <td>2018-07-01</td>\n",
       "      <td>33.779819</td>\n",
       "      <td>-118.263023</td>\n",
       "      <td>3013</td>\n",
       "      <td>00:23:00</td>\n",
       "      <td>94851136</td>\n",
       "      <td>Round Trip</td>\n",
       "      <td>Sunday</td>\n",
       "    </tr>\n",
       "  </tbody>\n",
       "</table>\n",
       "</div>"
      ],
      "text/plain": [
       "                        _id  bike_id  duration     end_day    end_lat  \\\n",
       "0  5c016831f596e114f49a3ba6     6279         8  2018-07-01  34.046520   \n",
       "1  5c016831f596e114f49a3ba7     6518         8  2018-07-01  34.046520   \n",
       "2  5c016831f596e114f49a3ba8     4823        15  2018-07-01  34.165291   \n",
       "3  5c016831f596e114f49a3ba9     6115         7  2018-07-01  34.147499   \n",
       "4  5c016831f596e114f49a3baa    12055        35  2018-07-01  33.779819   \n",
       "\n",
       "      end_lon  end_station  end_time passholder_type  plan_duration  \\\n",
       "0 -118.237411         3082  00:12:00    Monthly Pass             30   \n",
       "1 -118.237411         3082  00:12:00       Flex Pass            365   \n",
       "2 -118.150970         4174  00:24:00    Monthly Pass            365   \n",
       "3 -118.148010         4162  00:29:00    Monthly Pass             30   \n",
       "4 -118.263023         3013  00:58:00         Walk-up              1   \n",
       "\n",
       "    start_day  start_lat   start_lon  start_station start_time   trip_id  \\\n",
       "0  2018-07-01  34.035801 -118.233170           3058   00:04:00  94851140   \n",
       "1  2018-07-01  34.035801 -118.233170           3058   00:04:00  94851141   \n",
       "2  2018-07-01  34.145248 -118.150070           4147   00:09:00  94851138   \n",
       "3  2018-07-01  34.140999 -118.132088           4157   00:22:00  94851137   \n",
       "4  2018-07-01  33.779819 -118.263023           3013   00:23:00  94851136   \n",
       "\n",
       "  trip_route_category weekday  \n",
       "0             One Way  Sunday  \n",
       "1             One Way  Sunday  \n",
       "2             One Way  Sunday  \n",
       "3             One Way  Sunday  \n",
       "4          Round Trip  Sunday  "
      ]
     },
     "execution_count": 10,
     "metadata": {},
     "output_type": "execute_result"
    }
   ],
   "source": [
    "df.head()"
   ]
  },
  {
   "cell_type": "code",
   "execution_count": 13,
   "metadata": {},
   "outputs": [
    {
     "data": {
      "text/plain": [
       "'[{\"passholder_type\":\"Annual Pass\",\"trip_id\":10},{\"passholder_type\":\"Flex Pass\",\"trip_id\":1566},{\"passholder_type\":\"Monthly Pass\",\"trip_id\":43102},{\"passholder_type\":\"One Day Pass\",\"trip_id\":4445},{\"passholder_type\":\"Walk-up\",\"trip_id\":44076}]'"
      ]
     },
     "execution_count": 13,
     "metadata": {},
     "output_type": "execute_result"
    }
   ],
   "source": [
    "grouped_df = df[['passholder_type','trip_id']].groupby('passholder_type').count()\n",
    "pie_df = grouped_df.reset_index()\n",
    "pie_df.to_json(orient='records')"
   ]
  },
  {
   "cell_type": "code",
   "execution_count": null,
   "metadata": {},
   "outputs": [],
   "source": []
  },
  {
   "cell_type": "code",
   "execution_count": null,
   "metadata": {},
   "outputs": [],
   "source": []
  },
  {
   "cell_type": "code",
   "execution_count": null,
   "metadata": {},
   "outputs": [],
   "source": []
  },
  {
   "cell_type": "code",
   "execution_count": null,
   "metadata": {},
   "outputs": [],
   "source": []
  }
 ],
 "metadata": {
  "kernelspec": {
   "display_name": "Python [conda env:PythonData]",
   "language": "python",
   "name": "conda-env-PythonData-py"
  },
  "language_info": {
   "codemirror_mode": {
    "name": "ipython",
    "version": 3
   },
   "file_extension": ".py",
   "mimetype": "text/x-python",
   "name": "python",
   "nbconvert_exporter": "python",
   "pygments_lexer": "ipython3",
   "version": "3.6.5"
  }
 },
 "nbformat": 4,
 "nbformat_minor": 2
}
